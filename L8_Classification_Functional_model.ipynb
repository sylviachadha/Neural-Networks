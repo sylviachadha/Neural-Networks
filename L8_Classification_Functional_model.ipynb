{
 "cells": [
  {
   "cell_type": "markdown",
   "id": "e6054e02-a61a-4552-b806-8fa64b179fde",
   "metadata": {},
   "source": [
    "# *Multi-Output: Wine Quality Estimator & Type Predictor*"
   ]
  },
  {
   "cell_type": "markdown",
   "id": "8cc1696c",
   "metadata": {},
   "source": [
    "### Classification as well as Regression using Functional Model"
   ]
  },
  {
   "cell_type": "markdown",
   "id": "55e9ba86",
   "metadata": {},
   "source": [
    "## Wine-Quality-Estimator-Type-Predictor\n",
    "### Dataset: Wine Quality Dataset"
   ]
  },
  {
   "cell_type": "markdown",
   "id": "3abffcca",
   "metadata": {},
   "source": [
    "Wine-Quality-Dataset\n",
    "\n",
    "The wine quality has two available dataset, one for white wine and one for the red wine. \n",
    "Each dataset can be used to predict the quality of the wine based on the wine features.\n",
    "The two dataset are combined and another column is added that indicates if it is a red wine or white wine.\n",
    "\n",
    "This model takes the wine features and release **two outputs: the wine quality and the wine type.**"
   ]
  },
  {
   "cell_type": "markdown",
   "id": "118a247f",
   "metadata": {},
   "source": [
    "## *Dataset Information:*\n",
    "The two datasets are related to red and white variants of the Portuguese \"Vinho Verde\" wine. For more details, consult: [Web Link] or the reference [Cortez et al., 2009]. Due to privacy and logistic issues, only physicochemical (inputs) and sensory (the output) variables are available (e.g. there is no data about grape types, wine brand, wine selling price, etc.).\n",
    "\n",
    "*<b>These datasets can be viewed as classification or regression tasks.The classes are ordered and not balanced (e.g. there are many more normal wines than excellent or poor ones). Outlier detection algorithms could be used to detect the few excellent or poor wines. Also, it is not confirmed if all input variables are relevant.</b>*\n",
    "\n",
    "So it is good to do some basic analysis of the data"
   ]
  },
  {
   "cell_type": "markdown",
   "id": "3c008eb6",
   "metadata": {},
   "source": [
    "Input variables (based on physicochemical tests):\n",
    "\n",
    "1 - fixed acidity\n",
    "\n",
    "2 - volatile acidity\n",
    "\n",
    "3 - citric acid\n",
    "\n",
    "4 - residual sugar\n",
    "\n",
    "5 - chlorides\n",
    "\n",
    "6 - free sulfur dioxide\n",
    "\n",
    "7 - total sulfur dioxide\n",
    "\n",
    "8 - density\n",
    "\n",
    "9 - pH\n",
    "\n",
    "10 - sulphates\n",
    "\n",
    "11 - alcohol\n",
    "\n",
    "Output variable (based on sensory data):\n",
    "\n",
    "12 - quality (score between 0 and 10)"
   ]
  },
  {
   "cell_type": "markdown",
   "id": "20fbb39c",
   "metadata": {},
   "source": [
    "## 1. Importing useful libraries"
   ]
  },
  {
   "cell_type": "code",
   "execution_count": 1,
   "id": "8c3cc636",
   "metadata": {},
   "outputs": [],
   "source": [
    "# Core python\n",
    "import numpy as np\n",
    "import pandas as pd\n",
    "import matplotlib.pyplot as plt\n",
    "import seaborn as sns\n"
   ]
  },
  {
   "cell_type": "code",
   "execution_count": 2,
   "id": "ee3a4690",
   "metadata": {},
   "outputs": [],
   "source": [
    "# Scikit learn\n",
    "import sklearn\n",
    "from sklearn.model_selection import train_test_split\n",
    "from sklearn.metrics import confusion_matrix\n",
    "import itertools\n",
    "import os\n",
    "import zipfile\n"
   ]
  },
  {
   "cell_type": "code",
   "execution_count": 3,
   "id": "b21e9d7a-fa36-4dc0-8d22-e81312858730",
   "metadata": {},
   "outputs": [],
   "source": [
    "# Tensorflow\n",
    "import tensorflow as tf\n",
    "from tensorflow import keras\n",
    "from tensorflow.keras import Model\n",
    "from tensorflow.keras.layers import Dense, Input"
   ]
  },
  {
   "cell_type": "markdown",
   "id": "81155738-95e7-42c7-952e-b0c17b02c0c1",
   "metadata": {},
   "source": [
    "## 2. Preprocess Datasets"
   ]
  },
  {
   "cell_type": "markdown",
   "id": "48e81642",
   "metadata": {},
   "source": [
    "This dataset is good from eda perspective as well. Here u r combining two datasets."
   ]
  },
  {
   "cell_type": "markdown",
   "id": "c546b4c2-342e-4457-8a10-52753524b0ee",
   "metadata": {},
   "source": [
    "### *White Wine Dataset*"
   ]
  },
  {
   "cell_type": "code",
   "execution_count": 4,
   "id": "ef0a0700-7150-4deb-8bd8-8e779adff981",
   "metadata": {
    "scrolled": true
   },
   "outputs": [
    {
     "data": {
      "text/html": [
       "<div>\n",
       "<style scoped>\n",
       "    .dataframe tbody tr th:only-of-type {\n",
       "        vertical-align: middle;\n",
       "    }\n",
       "\n",
       "    .dataframe tbody tr th {\n",
       "        vertical-align: top;\n",
       "    }\n",
       "\n",
       "    .dataframe thead th {\n",
       "        text-align: right;\n",
       "    }\n",
       "</style>\n",
       "<table border=\"1\" class=\"dataframe\">\n",
       "  <thead>\n",
       "    <tr style=\"text-align: right;\">\n",
       "      <th></th>\n",
       "      <th>fixed acidity</th>\n",
       "      <th>volatile acidity</th>\n",
       "      <th>citric acid</th>\n",
       "      <th>residual sugar</th>\n",
       "      <th>chlorides</th>\n",
       "      <th>free sulfur dioxide</th>\n",
       "      <th>total sulfur dioxide</th>\n",
       "      <th>density</th>\n",
       "      <th>pH</th>\n",
       "      <th>sulphates</th>\n",
       "      <th>alcohol</th>\n",
       "      <th>quality</th>\n",
       "      <th>is_red</th>\n",
       "    </tr>\n",
       "  </thead>\n",
       "  <tbody>\n",
       "    <tr>\n",
       "      <th>0</th>\n",
       "      <td>7.0</td>\n",
       "      <td>0.27</td>\n",
       "      <td>0.36</td>\n",
       "      <td>20.7</td>\n",
       "      <td>0.045</td>\n",
       "      <td>45.0</td>\n",
       "      <td>170.0</td>\n",
       "      <td>1.0010</td>\n",
       "      <td>3.00</td>\n",
       "      <td>0.45</td>\n",
       "      <td>8.8</td>\n",
       "      <td>6</td>\n",
       "      <td>0</td>\n",
       "    </tr>\n",
       "    <tr>\n",
       "      <th>1</th>\n",
       "      <td>6.3</td>\n",
       "      <td>0.30</td>\n",
       "      <td>0.34</td>\n",
       "      <td>1.6</td>\n",
       "      <td>0.049</td>\n",
       "      <td>14.0</td>\n",
       "      <td>132.0</td>\n",
       "      <td>0.9940</td>\n",
       "      <td>3.30</td>\n",
       "      <td>0.49</td>\n",
       "      <td>9.5</td>\n",
       "      <td>6</td>\n",
       "      <td>0</td>\n",
       "    </tr>\n",
       "    <tr>\n",
       "      <th>2</th>\n",
       "      <td>8.1</td>\n",
       "      <td>0.28</td>\n",
       "      <td>0.40</td>\n",
       "      <td>6.9</td>\n",
       "      <td>0.050</td>\n",
       "      <td>30.0</td>\n",
       "      <td>97.0</td>\n",
       "      <td>0.9951</td>\n",
       "      <td>3.26</td>\n",
       "      <td>0.44</td>\n",
       "      <td>10.1</td>\n",
       "      <td>6</td>\n",
       "      <td>0</td>\n",
       "    </tr>\n",
       "    <tr>\n",
       "      <th>3</th>\n",
       "      <td>7.2</td>\n",
       "      <td>0.23</td>\n",
       "      <td>0.32</td>\n",
       "      <td>8.5</td>\n",
       "      <td>0.058</td>\n",
       "      <td>47.0</td>\n",
       "      <td>186.0</td>\n",
       "      <td>0.9956</td>\n",
       "      <td>3.19</td>\n",
       "      <td>0.40</td>\n",
       "      <td>9.9</td>\n",
       "      <td>6</td>\n",
       "      <td>0</td>\n",
       "    </tr>\n",
       "    <tr>\n",
       "      <th>6</th>\n",
       "      <td>6.2</td>\n",
       "      <td>0.32</td>\n",
       "      <td>0.16</td>\n",
       "      <td>7.0</td>\n",
       "      <td>0.045</td>\n",
       "      <td>30.0</td>\n",
       "      <td>136.0</td>\n",
       "      <td>0.9949</td>\n",
       "      <td>3.18</td>\n",
       "      <td>0.47</td>\n",
       "      <td>9.6</td>\n",
       "      <td>6</td>\n",
       "      <td>0</td>\n",
       "    </tr>\n",
       "  </tbody>\n",
       "</table>\n",
       "</div>"
      ],
      "text/plain": [
       "   fixed acidity  volatile acidity  citric acid  residual sugar  chlorides  \\\n",
       "0            7.0              0.27         0.36            20.7      0.045   \n",
       "1            6.3              0.30         0.34             1.6      0.049   \n",
       "2            8.1              0.28         0.40             6.9      0.050   \n",
       "3            7.2              0.23         0.32             8.5      0.058   \n",
       "6            6.2              0.32         0.16             7.0      0.045   \n",
       "\n",
       "   free sulfur dioxide  total sulfur dioxide  density    pH  sulphates  \\\n",
       "0                 45.0                 170.0   1.0010  3.00       0.45   \n",
       "1                 14.0                 132.0   0.9940  3.30       0.49   \n",
       "2                 30.0                  97.0   0.9951  3.26       0.44   \n",
       "3                 47.0                 186.0   0.9956  3.19       0.40   \n",
       "6                 30.0                 136.0   0.9949  3.18       0.47   \n",
       "\n",
       "   alcohol  quality  is_red  \n",
       "0      8.8        6       0  \n",
       "1      9.5        6       0  \n",
       "2     10.1        6       0  \n",
       "3      9.9        6       0  \n",
       "6      9.6        6       0  "
      ]
     },
     "execution_count": 4,
     "metadata": {},
     "output_type": "execute_result"
    }
   ],
   "source": [
    "# White wine dataset \n",
    "white_df = pd.read_csv(\"datasets/winequality-white.csv\", sep=';')\n",
    "white_df[\"is_red\"] = 0\n",
    "white_df.drop_duplicates(keep='first', inplace=True)\n",
    "white_df.head()"
   ]
  },
  {
   "cell_type": "code",
   "execution_count": 5,
   "id": "599a29c9-95e5-4717-8c00-cfa38ab09479",
   "metadata": {},
   "outputs": [
    {
     "data": {
      "text/plain": [
       "51493"
      ]
     },
     "execution_count": 5,
     "metadata": {},
     "output_type": "execute_result"
    }
   ],
   "source": [
    "white_df.size"
   ]
  },
  {
   "cell_type": "markdown",
   "id": "92c97586-35ea-456a-bd10-4beed5065ccb",
   "metadata": {},
   "source": [
    "### *Red Wine Dataset*"
   ]
  },
  {
   "cell_type": "code",
   "execution_count": 6,
   "id": "c5c24bbe-0671-4886-8db1-efa111ed4ce0",
   "metadata": {},
   "outputs": [
    {
     "data": {
      "text/html": [
       "<div>\n",
       "<style scoped>\n",
       "    .dataframe tbody tr th:only-of-type {\n",
       "        vertical-align: middle;\n",
       "    }\n",
       "\n",
       "    .dataframe tbody tr th {\n",
       "        vertical-align: top;\n",
       "    }\n",
       "\n",
       "    .dataframe thead th {\n",
       "        text-align: right;\n",
       "    }\n",
       "</style>\n",
       "<table border=\"1\" class=\"dataframe\">\n",
       "  <thead>\n",
       "    <tr style=\"text-align: right;\">\n",
       "      <th></th>\n",
       "      <th>fixed acidity</th>\n",
       "      <th>volatile acidity</th>\n",
       "      <th>citric acid</th>\n",
       "      <th>residual sugar</th>\n",
       "      <th>chlorides</th>\n",
       "      <th>free sulfur dioxide</th>\n",
       "      <th>total sulfur dioxide</th>\n",
       "      <th>density</th>\n",
       "      <th>pH</th>\n",
       "      <th>sulphates</th>\n",
       "      <th>alcohol</th>\n",
       "      <th>quality</th>\n",
       "      <th>is_red</th>\n",
       "    </tr>\n",
       "  </thead>\n",
       "  <tbody>\n",
       "    <tr>\n",
       "      <th>0</th>\n",
       "      <td>7.4</td>\n",
       "      <td>0.70</td>\n",
       "      <td>0.00</td>\n",
       "      <td>1.9</td>\n",
       "      <td>0.076</td>\n",
       "      <td>11.0</td>\n",
       "      <td>34.0</td>\n",
       "      <td>0.9978</td>\n",
       "      <td>3.51</td>\n",
       "      <td>0.56</td>\n",
       "      <td>9.4</td>\n",
       "      <td>5</td>\n",
       "      <td>1</td>\n",
       "    </tr>\n",
       "    <tr>\n",
       "      <th>1</th>\n",
       "      <td>7.8</td>\n",
       "      <td>0.88</td>\n",
       "      <td>0.00</td>\n",
       "      <td>2.6</td>\n",
       "      <td>0.098</td>\n",
       "      <td>25.0</td>\n",
       "      <td>67.0</td>\n",
       "      <td>0.9968</td>\n",
       "      <td>3.20</td>\n",
       "      <td>0.68</td>\n",
       "      <td>9.8</td>\n",
       "      <td>5</td>\n",
       "      <td>1</td>\n",
       "    </tr>\n",
       "    <tr>\n",
       "      <th>2</th>\n",
       "      <td>7.8</td>\n",
       "      <td>0.76</td>\n",
       "      <td>0.04</td>\n",
       "      <td>2.3</td>\n",
       "      <td>0.092</td>\n",
       "      <td>15.0</td>\n",
       "      <td>54.0</td>\n",
       "      <td>0.9970</td>\n",
       "      <td>3.26</td>\n",
       "      <td>0.65</td>\n",
       "      <td>9.8</td>\n",
       "      <td>5</td>\n",
       "      <td>1</td>\n",
       "    </tr>\n",
       "    <tr>\n",
       "      <th>3</th>\n",
       "      <td>11.2</td>\n",
       "      <td>0.28</td>\n",
       "      <td>0.56</td>\n",
       "      <td>1.9</td>\n",
       "      <td>0.075</td>\n",
       "      <td>17.0</td>\n",
       "      <td>60.0</td>\n",
       "      <td>0.9980</td>\n",
       "      <td>3.16</td>\n",
       "      <td>0.58</td>\n",
       "      <td>9.8</td>\n",
       "      <td>6</td>\n",
       "      <td>1</td>\n",
       "    </tr>\n",
       "    <tr>\n",
       "      <th>5</th>\n",
       "      <td>7.4</td>\n",
       "      <td>0.66</td>\n",
       "      <td>0.00</td>\n",
       "      <td>1.8</td>\n",
       "      <td>0.075</td>\n",
       "      <td>13.0</td>\n",
       "      <td>40.0</td>\n",
       "      <td>0.9978</td>\n",
       "      <td>3.51</td>\n",
       "      <td>0.56</td>\n",
       "      <td>9.4</td>\n",
       "      <td>5</td>\n",
       "      <td>1</td>\n",
       "    </tr>\n",
       "  </tbody>\n",
       "</table>\n",
       "</div>"
      ],
      "text/plain": [
       "   fixed acidity  volatile acidity  citric acid  residual sugar  chlorides  \\\n",
       "0            7.4              0.70         0.00             1.9      0.076   \n",
       "1            7.8              0.88         0.00             2.6      0.098   \n",
       "2            7.8              0.76         0.04             2.3      0.092   \n",
       "3           11.2              0.28         0.56             1.9      0.075   \n",
       "5            7.4              0.66         0.00             1.8      0.075   \n",
       "\n",
       "   free sulfur dioxide  total sulfur dioxide  density    pH  sulphates  \\\n",
       "0                 11.0                  34.0   0.9978  3.51       0.56   \n",
       "1                 25.0                  67.0   0.9968  3.20       0.68   \n",
       "2                 15.0                  54.0   0.9970  3.26       0.65   \n",
       "3                 17.0                  60.0   0.9980  3.16       0.58   \n",
       "5                 13.0                  40.0   0.9978  3.51       0.56   \n",
       "\n",
       "   alcohol  quality  is_red  \n",
       "0      9.4        5       1  \n",
       "1      9.8        5       1  \n",
       "2      9.8        5       1  \n",
       "3      9.8        6       1  \n",
       "5      9.4        5       1  "
      ]
     },
     "execution_count": 6,
     "metadata": {},
     "output_type": "execute_result"
    }
   ],
   "source": [
    "# Red Wine dataset\n",
    "red_df = pd.read_csv(\"datasets/winequality-red.csv\")\n",
    "red_df[\"is_red\"] = 1\n",
    "red_df.drop_duplicates(keep='first', inplace=True)\n",
    "red_df.head()"
   ]
  },
  {
   "cell_type": "code",
   "execution_count": 7,
   "id": "46c83427-8725-417e-ab7a-00a05beaf0b6",
   "metadata": {},
   "outputs": [
    {
     "data": {
      "text/plain": [
       "17667"
      ]
     },
     "execution_count": 7,
     "metadata": {},
     "output_type": "execute_result"
    }
   ],
   "source": [
    "red_df.size"
   ]
  },
  {
   "cell_type": "markdown",
   "id": "f3139950",
   "metadata": {},
   "source": [
    "We observe that white wine data(51493) is quite high compared to red wine data (17667)."
   ]
  },
  {
   "cell_type": "markdown",
   "id": "579872dc",
   "metadata": {},
   "source": [
    "### Concatenate Datasets"
   ]
  },
  {
   "cell_type": "code",
   "execution_count": 8,
   "id": "3b28871c-a18a-4789-8b92-12101608af03",
   "metadata": {},
   "outputs": [
    {
     "data": {
      "text/html": [
       "<div>\n",
       "<style scoped>\n",
       "    .dataframe tbody tr th:only-of-type {\n",
       "        vertical-align: middle;\n",
       "    }\n",
       "\n",
       "    .dataframe tbody tr th {\n",
       "        vertical-align: top;\n",
       "    }\n",
       "\n",
       "    .dataframe thead th {\n",
       "        text-align: right;\n",
       "    }\n",
       "</style>\n",
       "<table border=\"1\" class=\"dataframe\">\n",
       "  <thead>\n",
       "    <tr style=\"text-align: right;\">\n",
       "      <th></th>\n",
       "      <th>fixed acidity</th>\n",
       "      <th>volatile acidity</th>\n",
       "      <th>citric acid</th>\n",
       "      <th>residual sugar</th>\n",
       "      <th>chlorides</th>\n",
       "      <th>free sulfur dioxide</th>\n",
       "      <th>total sulfur dioxide</th>\n",
       "      <th>density</th>\n",
       "      <th>pH</th>\n",
       "      <th>sulphates</th>\n",
       "      <th>alcohol</th>\n",
       "      <th>quality</th>\n",
       "      <th>is_red</th>\n",
       "    </tr>\n",
       "  </thead>\n",
       "  <tbody>\n",
       "    <tr>\n",
       "      <th>2628</th>\n",
       "      <td>6.8</td>\n",
       "      <td>0.36</td>\n",
       "      <td>0.24</td>\n",
       "      <td>4.6</td>\n",
       "      <td>0.039</td>\n",
       "      <td>24.0</td>\n",
       "      <td>124.0</td>\n",
       "      <td>0.99090</td>\n",
       "      <td>3.27</td>\n",
       "      <td>0.34</td>\n",
       "      <td>12.6</td>\n",
       "      <td>7</td>\n",
       "      <td>0</td>\n",
       "    </tr>\n",
       "    <tr>\n",
       "      <th>428</th>\n",
       "      <td>9.3</td>\n",
       "      <td>0.39</td>\n",
       "      <td>0.40</td>\n",
       "      <td>2.6</td>\n",
       "      <td>0.073</td>\n",
       "      <td>10.0</td>\n",
       "      <td>26.0</td>\n",
       "      <td>0.99840</td>\n",
       "      <td>3.34</td>\n",
       "      <td>0.75</td>\n",
       "      <td>10.2</td>\n",
       "      <td>6</td>\n",
       "      <td>1</td>\n",
       "    </tr>\n",
       "    <tr>\n",
       "      <th>687</th>\n",
       "      <td>10.8</td>\n",
       "      <td>0.89</td>\n",
       "      <td>0.30</td>\n",
       "      <td>2.6</td>\n",
       "      <td>0.132</td>\n",
       "      <td>7.0</td>\n",
       "      <td>60.0</td>\n",
       "      <td>0.99786</td>\n",
       "      <td>2.99</td>\n",
       "      <td>1.18</td>\n",
       "      <td>10.2</td>\n",
       "      <td>5</td>\n",
       "      <td>1</td>\n",
       "    </tr>\n",
       "    <tr>\n",
       "      <th>2771</th>\n",
       "      <td>6.6</td>\n",
       "      <td>0.26</td>\n",
       "      <td>0.31</td>\n",
       "      <td>4.8</td>\n",
       "      <td>0.138</td>\n",
       "      <td>41.0</td>\n",
       "      <td>168.0</td>\n",
       "      <td>0.99510</td>\n",
       "      <td>3.20</td>\n",
       "      <td>0.38</td>\n",
       "      <td>9.3</td>\n",
       "      <td>5</td>\n",
       "      <td>0</td>\n",
       "    </tr>\n",
       "    <tr>\n",
       "      <th>4643</th>\n",
       "      <td>5.7</td>\n",
       "      <td>0.25</td>\n",
       "      <td>0.26</td>\n",
       "      <td>12.5</td>\n",
       "      <td>0.049</td>\n",
       "      <td>52.5</td>\n",
       "      <td>120.0</td>\n",
       "      <td>0.99691</td>\n",
       "      <td>3.08</td>\n",
       "      <td>0.45</td>\n",
       "      <td>9.4</td>\n",
       "      <td>6</td>\n",
       "      <td>0</td>\n",
       "    </tr>\n",
       "  </tbody>\n",
       "</table>\n",
       "</div>"
      ],
      "text/plain": [
       "      fixed acidity  volatile acidity  citric acid  residual sugar  chlorides  \\\n",
       "2628            6.8              0.36         0.24             4.6      0.039   \n",
       "428             9.3              0.39         0.40             2.6      0.073   \n",
       "687            10.8              0.89         0.30             2.6      0.132   \n",
       "2771            6.6              0.26         0.31             4.8      0.138   \n",
       "4643            5.7              0.25         0.26            12.5      0.049   \n",
       "\n",
       "      free sulfur dioxide  total sulfur dioxide  density    pH  sulphates  \\\n",
       "2628                 24.0                 124.0  0.99090  3.27       0.34   \n",
       "428                  10.0                  26.0  0.99840  3.34       0.75   \n",
       "687                   7.0                  60.0  0.99786  2.99       1.18   \n",
       "2771                 41.0                 168.0  0.99510  3.20       0.38   \n",
       "4643                 52.5                 120.0  0.99691  3.08       0.45   \n",
       "\n",
       "      alcohol  quality  is_red  \n",
       "2628     12.6        7       0  \n",
       "428      10.2        6       1  \n",
       "687      10.2        5       1  \n",
       "2771      9.3        5       0  \n",
       "4643      9.4        6       0  "
      ]
     },
     "execution_count": 8,
     "metadata": {},
     "output_type": "execute_result"
    }
   ],
   "source": [
    "df = pd.concat([red_df, white_df], ignore_index=True)\n",
    "df.sample(5)   # df.sample takes random samples"
   ]
  },
  {
   "cell_type": "code",
   "execution_count": 9,
   "id": "1bc11a1e-9810-428e-b5ff-29a75eed7403",
   "metadata": {},
   "outputs": [
    {
     "data": {
      "text/plain": [
       "69160"
      ]
     },
     "execution_count": 9,
     "metadata": {},
     "output_type": "execute_result"
    }
   ],
   "source": [
    "df.size"
   ]
  },
  {
   "cell_type": "code",
   "execution_count": 10,
   "id": "d49daca7-a37a-42e3-b72b-d7ea5a3f56f5",
   "metadata": {},
   "outputs": [
    {
     "data": {
      "text/html": [
       "<div>\n",
       "<style scoped>\n",
       "    .dataframe tbody tr th:only-of-type {\n",
       "        vertical-align: middle;\n",
       "    }\n",
       "\n",
       "    .dataframe tbody tr th {\n",
       "        vertical-align: top;\n",
       "    }\n",
       "\n",
       "    .dataframe thead th {\n",
       "        text-align: right;\n",
       "    }\n",
       "</style>\n",
       "<table border=\"1\" class=\"dataframe\">\n",
       "  <thead>\n",
       "    <tr style=\"text-align: right;\">\n",
       "      <th></th>\n",
       "      <th>fixed acidity</th>\n",
       "      <th>volatile acidity</th>\n",
       "      <th>citric acid</th>\n",
       "      <th>residual sugar</th>\n",
       "      <th>chlorides</th>\n",
       "      <th>free sulfur dioxide</th>\n",
       "      <th>total sulfur dioxide</th>\n",
       "      <th>density</th>\n",
       "      <th>pH</th>\n",
       "      <th>sulphates</th>\n",
       "      <th>alcohol</th>\n",
       "      <th>quality</th>\n",
       "      <th>is_red</th>\n",
       "    </tr>\n",
       "  </thead>\n",
       "  <tbody>\n",
       "    <tr>\n",
       "      <th>5315</th>\n",
       "      <td>6.2</td>\n",
       "      <td>0.21</td>\n",
       "      <td>0.29</td>\n",
       "      <td>1.6</td>\n",
       "      <td>0.039</td>\n",
       "      <td>24.0</td>\n",
       "      <td>92.0</td>\n",
       "      <td>0.99114</td>\n",
       "      <td>3.27</td>\n",
       "      <td>0.50</td>\n",
       "      <td>11.2</td>\n",
       "      <td>6</td>\n",
       "      <td>0</td>\n",
       "    </tr>\n",
       "    <tr>\n",
       "      <th>5316</th>\n",
       "      <td>6.6</td>\n",
       "      <td>0.32</td>\n",
       "      <td>0.36</td>\n",
       "      <td>8.0</td>\n",
       "      <td>0.047</td>\n",
       "      <td>57.0</td>\n",
       "      <td>168.0</td>\n",
       "      <td>0.99490</td>\n",
       "      <td>3.15</td>\n",
       "      <td>0.46</td>\n",
       "      <td>9.6</td>\n",
       "      <td>5</td>\n",
       "      <td>0</td>\n",
       "    </tr>\n",
       "    <tr>\n",
       "      <th>5317</th>\n",
       "      <td>6.5</td>\n",
       "      <td>0.24</td>\n",
       "      <td>0.19</td>\n",
       "      <td>1.2</td>\n",
       "      <td>0.041</td>\n",
       "      <td>30.0</td>\n",
       "      <td>111.0</td>\n",
       "      <td>0.99254</td>\n",
       "      <td>2.99</td>\n",
       "      <td>0.46</td>\n",
       "      <td>9.4</td>\n",
       "      <td>6</td>\n",
       "      <td>0</td>\n",
       "    </tr>\n",
       "    <tr>\n",
       "      <th>5318</th>\n",
       "      <td>5.5</td>\n",
       "      <td>0.29</td>\n",
       "      <td>0.30</td>\n",
       "      <td>1.1</td>\n",
       "      <td>0.022</td>\n",
       "      <td>20.0</td>\n",
       "      <td>110.0</td>\n",
       "      <td>0.98869</td>\n",
       "      <td>3.34</td>\n",
       "      <td>0.38</td>\n",
       "      <td>12.8</td>\n",
       "      <td>7</td>\n",
       "      <td>0</td>\n",
       "    </tr>\n",
       "    <tr>\n",
       "      <th>5319</th>\n",
       "      <td>6.0</td>\n",
       "      <td>0.21</td>\n",
       "      <td>0.38</td>\n",
       "      <td>0.8</td>\n",
       "      <td>0.020</td>\n",
       "      <td>22.0</td>\n",
       "      <td>98.0</td>\n",
       "      <td>0.98941</td>\n",
       "      <td>3.26</td>\n",
       "      <td>0.32</td>\n",
       "      <td>11.8</td>\n",
       "      <td>6</td>\n",
       "      <td>0</td>\n",
       "    </tr>\n",
       "  </tbody>\n",
       "</table>\n",
       "</div>"
      ],
      "text/plain": [
       "      fixed acidity  volatile acidity  citric acid  residual sugar  chlorides  \\\n",
       "5315            6.2              0.21         0.29             1.6      0.039   \n",
       "5316            6.6              0.32         0.36             8.0      0.047   \n",
       "5317            6.5              0.24         0.19             1.2      0.041   \n",
       "5318            5.5              0.29         0.30             1.1      0.022   \n",
       "5319            6.0              0.21         0.38             0.8      0.020   \n",
       "\n",
       "      free sulfur dioxide  total sulfur dioxide  density    pH  sulphates  \\\n",
       "5315                 24.0                  92.0  0.99114  3.27       0.50   \n",
       "5316                 57.0                 168.0  0.99490  3.15       0.46   \n",
       "5317                 30.0                 111.0  0.99254  2.99       0.46   \n",
       "5318                 20.0                 110.0  0.98869  3.34       0.38   \n",
       "5319                 22.0                  98.0  0.98941  3.26       0.32   \n",
       "\n",
       "      alcohol  quality  is_red  \n",
       "5315     11.2        6       0  \n",
       "5316      9.6        5       0  \n",
       "5317      9.4        6       0  \n",
       "5318     12.8        7       0  \n",
       "5319     11.8        6       0  "
      ]
     },
     "execution_count": 10,
     "metadata": {},
     "output_type": "execute_result"
    }
   ],
   "source": [
    "df.tail()"
   ]
  },
  {
   "cell_type": "markdown",
   "id": "5672512d-388f-4c33-9621-8410ffe46a3a",
   "metadata": {},
   "source": [
    "### *Wine Quality Plot*"
   ]
  },
  {
   "cell_type": "code",
   "execution_count": 11,
   "id": "6c5aa9a5-6bb7-49fc-ac03-f74f9333fcab",
   "metadata": {},
   "outputs": [
    {
     "data": {
      "image/png": "[encoded data removed]",
      "text/plain": [
       "<Figure size 500x300 with 1 Axes>"
      ]
     },
     "metadata": {},
     "output_type": "display_data"
    }
   ],
   "source": [
    "plt.figure(figsize=(5,3))\n",
    "sns.set_style(style=\"darkgrid\")\n",
    "plt.hist(df[\"quality\"], color=\"orange\")\n",
    "plt.show();"
   ]
  },
  {
   "cell_type": "markdown",
   "id": "0981e617-3d50-462a-9f38-57215b98c026",
   "metadata": {},
   "source": [
    "#### *From the above plot, the wines with 3,4,8 & 9 have low number of examples but other have a good number of samples; thus removing the 3,4,8 & 9 samples.*"
   ]
  },
  {
   "cell_type": "code",
   "execution_count": 12,
   "id": "bb6cb70f-f47b-44a2-82e3-1f9f7cda156f",
   "metadata": {},
   "outputs": [
    {
     "data": {
      "text/plain": [
       "quality\n",
       "6    2323\n",
       "5    1752\n",
       "7     856\n",
       "4     206\n",
       "8     148\n",
       "3      30\n",
       "9       5\n",
       "dtype: int64"
      ]
     },
     "execution_count": 12,
     "metadata": {},
     "output_type": "execute_result"
    }
   ],
   "source": [
    "df.value_counts(df['quality'])"
   ]
  },
  {
   "cell_type": "markdown",
   "id": "0f1e54a1",
   "metadata": {},
   "source": [
    "- We can notice in wine quality from 0 to 10, very high or very low quality wines are less. Most in number are average quality wines.\n",
    "- For this problem we have removed v.high & v.low quality wines."
   ]
  },
  {
   "cell_type": "markdown",
   "id": "7ec0d4a6",
   "metadata": {},
   "source": [
    "*<b>Although this is part of eda but this will be v.useful for ML as well cz they will help us in reducing the number of features.</b>*"
   ]
  },
  {
   "cell_type": "code",
   "execution_count": 13,
   "id": "e3983c67-a0ff-4d0b-8783-c385f18d86af",
   "metadata": {},
   "outputs": [
    {
     "data": {
      "text/plain": [
       "quality\n",
       "6    2323\n",
       "5    1752\n",
       "7     856\n",
       "dtype: int64"
      ]
     },
     "execution_count": 13,
     "metadata": {},
     "output_type": "execute_result"
    }
   ],
   "source": [
    "df = df[(df['quality']>4) & (df['quality']<8)]\n",
    "df = df.reset_index(drop=True)\n",
    "df.value_counts(df['quality'])"
   ]
  },
  {
   "cell_type": "code",
   "execution_count": 14,
   "id": "6adfab96-a32b-4389-bbc8-6771b455b807",
   "metadata": {},
   "outputs": [
    {
     "data": {
      "text/plain": [
       "4931"
      ]
     },
     "execution_count": 14,
     "metadata": {},
     "output_type": "execute_result"
    }
   ],
   "source": [
    "df['fixed acidity'].size"
   ]
  },
  {
   "cell_type": "markdown",
   "id": "93db9bc7-db36-4257-92c5-3b80d69a5c47",
   "metadata": {},
   "source": [
    "### *Plot after processing*"
   ]
  },
  {
   "cell_type": "code",
   "execution_count": 15,
   "id": "25e327d8-e3be-465f-853b-5a662e83b059",
   "metadata": {},
   "outputs": [
    {
     "data": {
      "image/png": "[encoded data removed]",
      "text/plain": [
       "<Figure size 500x300 with 1 Axes>"
      ]
     },
     "metadata": {},
     "output_type": "display_data"
    }
   ],
   "source": [
    "plt.figure(figsize=(5,3))\n",
    "sns.set_style(style=\"darkgrid\")\n",
    "plt.hist(df[\"quality\"], color=\"orange\")\n",
    "plt.show()"
   ]
  },
  {
   "cell_type": "markdown",
   "id": "23131a7b-3234-4d48-82ee-9938640653e1",
   "metadata": {},
   "source": [
    "## *Train Test Split of the data*"
   ]
  },
  {
   "cell_type": "code",
   "execution_count": 16,
   "id": "76c16346-3d9f-4150-9216-f2064656b01b",
   "metadata": {},
   "outputs": [
    {
     "data": {
      "text/html": [
       "<div>\n",
       "<style scoped>\n",
       "    .dataframe tbody tr th:only-of-type {\n",
       "        vertical-align: middle;\n",
       "    }\n",
       "\n",
       "    .dataframe tbody tr th {\n",
       "        vertical-align: top;\n",
       "    }\n",
       "\n",
       "    .dataframe thead th {\n",
       "        text-align: right;\n",
       "    }\n",
       "</style>\n",
       "<table border=\"1\" class=\"dataframe\">\n",
       "  <thead>\n",
       "    <tr style=\"text-align: right;\">\n",
       "      <th></th>\n",
       "      <th>fixed acidity</th>\n",
       "      <th>volatile acidity</th>\n",
       "      <th>citric acid</th>\n",
       "      <th>residual sugar</th>\n",
       "      <th>chlorides</th>\n",
       "      <th>free sulfur dioxide</th>\n",
       "      <th>total sulfur dioxide</th>\n",
       "      <th>density</th>\n",
       "      <th>pH</th>\n",
       "      <th>sulphates</th>\n",
       "      <th>alcohol</th>\n",
       "      <th>quality</th>\n",
       "      <th>is_red</th>\n",
       "    </tr>\n",
       "  </thead>\n",
       "  <tbody>\n",
       "    <tr>\n",
       "      <th>0</th>\n",
       "      <td>7.4</td>\n",
       "      <td>0.70</td>\n",
       "      <td>0.00</td>\n",
       "      <td>1.9</td>\n",
       "      <td>0.076</td>\n",
       "      <td>11.0</td>\n",
       "      <td>34.0</td>\n",
       "      <td>0.9978</td>\n",
       "      <td>3.51</td>\n",
       "      <td>0.56</td>\n",
       "      <td>9.4</td>\n",
       "      <td>5</td>\n",
       "      <td>1</td>\n",
       "    </tr>\n",
       "    <tr>\n",
       "      <th>1</th>\n",
       "      <td>7.8</td>\n",
       "      <td>0.88</td>\n",
       "      <td>0.00</td>\n",
       "      <td>2.6</td>\n",
       "      <td>0.098</td>\n",
       "      <td>25.0</td>\n",
       "      <td>67.0</td>\n",
       "      <td>0.9968</td>\n",
       "      <td>3.20</td>\n",
       "      <td>0.68</td>\n",
       "      <td>9.8</td>\n",
       "      <td>5</td>\n",
       "      <td>1</td>\n",
       "    </tr>\n",
       "    <tr>\n",
       "      <th>2</th>\n",
       "      <td>7.8</td>\n",
       "      <td>0.76</td>\n",
       "      <td>0.04</td>\n",
       "      <td>2.3</td>\n",
       "      <td>0.092</td>\n",
       "      <td>15.0</td>\n",
       "      <td>54.0</td>\n",
       "      <td>0.9970</td>\n",
       "      <td>3.26</td>\n",
       "      <td>0.65</td>\n",
       "      <td>9.8</td>\n",
       "      <td>5</td>\n",
       "      <td>1</td>\n",
       "    </tr>\n",
       "    <tr>\n",
       "      <th>3</th>\n",
       "      <td>11.2</td>\n",
       "      <td>0.28</td>\n",
       "      <td>0.56</td>\n",
       "      <td>1.9</td>\n",
       "      <td>0.075</td>\n",
       "      <td>17.0</td>\n",
       "      <td>60.0</td>\n",
       "      <td>0.9980</td>\n",
       "      <td>3.16</td>\n",
       "      <td>0.58</td>\n",
       "      <td>9.8</td>\n",
       "      <td>6</td>\n",
       "      <td>1</td>\n",
       "    </tr>\n",
       "    <tr>\n",
       "      <th>4</th>\n",
       "      <td>7.4</td>\n",
       "      <td>0.66</td>\n",
       "      <td>0.00</td>\n",
       "      <td>1.8</td>\n",
       "      <td>0.075</td>\n",
       "      <td>13.0</td>\n",
       "      <td>40.0</td>\n",
       "      <td>0.9978</td>\n",
       "      <td>3.51</td>\n",
       "      <td>0.56</td>\n",
       "      <td>9.4</td>\n",
       "      <td>5</td>\n",
       "      <td>1</td>\n",
       "    </tr>\n",
       "  </tbody>\n",
       "</table>\n",
       "</div>"
      ],
      "text/plain": [
       "   fixed acidity  volatile acidity  citric acid  residual sugar  chlorides  \\\n",
       "0            7.4              0.70         0.00             1.9      0.076   \n",
       "1            7.8              0.88         0.00             2.6      0.098   \n",
       "2            7.8              0.76         0.04             2.3      0.092   \n",
       "3           11.2              0.28         0.56             1.9      0.075   \n",
       "4            7.4              0.66         0.00             1.8      0.075   \n",
       "\n",
       "   free sulfur dioxide  total sulfur dioxide  density    pH  sulphates  \\\n",
       "0                 11.0                  34.0   0.9978  3.51       0.56   \n",
       "1                 25.0                  67.0   0.9968  3.20       0.68   \n",
       "2                 15.0                  54.0   0.9970  3.26       0.65   \n",
       "3                 17.0                  60.0   0.9980  3.16       0.58   \n",
       "4                 13.0                  40.0   0.9978  3.51       0.56   \n",
       "\n",
       "   alcohol  quality  is_red  \n",
       "0      9.4        5       1  \n",
       "1      9.8        5       1  \n",
       "2      9.8        5       1  \n",
       "3      9.8        6       1  \n",
       "4      9.4        5       1  "
      ]
     },
     "execution_count": 16,
     "metadata": {},
     "output_type": "execute_result"
    }
   ],
   "source": [
    "df.head()"
   ]
  },
  {
   "cell_type": "code",
   "execution_count": 17,
   "id": "7f06da8f-9739-4999-a9b4-a0063c340d8c",
   "metadata": {},
   "outputs": [
    {
     "data": {
      "text/plain": [
       "64103"
      ]
     },
     "execution_count": 17,
     "metadata": {},
     "output_type": "execute_result"
    }
   ],
   "source": [
    "df.size"
   ]
  },
  {
   "cell_type": "markdown",
   "id": "f26c5a83",
   "metadata": {},
   "source": [
    "### Feature matrix"
   ]
  },
  {
   "cell_type": "code",
   "execution_count": 18,
   "id": "9409bdc6-9603-4c0b-acaa-196a306efc21",
   "metadata": {},
   "outputs": [
    {
     "data": {
      "text/html": [
       "<div>\n",
       "<style scoped>\n",
       "    .dataframe tbody tr th:only-of-type {\n",
       "        vertical-align: middle;\n",
       "    }\n",
       "\n",
       "    .dataframe tbody tr th {\n",
       "        vertical-align: top;\n",
       "    }\n",
       "\n",
       "    .dataframe thead th {\n",
       "        text-align: right;\n",
       "    }\n",
       "</style>\n",
       "<table border=\"1\" class=\"dataframe\">\n",
       "  <thead>\n",
       "    <tr style=\"text-align: right;\">\n",
       "      <th></th>\n",
       "      <th>fixed acidity</th>\n",
       "      <th>volatile acidity</th>\n",
       "      <th>citric acid</th>\n",
       "      <th>residual sugar</th>\n",
       "      <th>chlorides</th>\n",
       "      <th>free sulfur dioxide</th>\n",
       "      <th>total sulfur dioxide</th>\n",
       "      <th>density</th>\n",
       "      <th>pH</th>\n",
       "      <th>sulphates</th>\n",
       "      <th>alcohol</th>\n",
       "    </tr>\n",
       "  </thead>\n",
       "  <tbody>\n",
       "    <tr>\n",
       "      <th>0</th>\n",
       "      <td>7.4</td>\n",
       "      <td>0.70</td>\n",
       "      <td>0.00</td>\n",
       "      <td>1.9</td>\n",
       "      <td>0.076</td>\n",
       "      <td>11.0</td>\n",
       "      <td>34.0</td>\n",
       "      <td>0.9978</td>\n",
       "      <td>3.51</td>\n",
       "      <td>0.56</td>\n",
       "      <td>9.4</td>\n",
       "    </tr>\n",
       "    <tr>\n",
       "      <th>1</th>\n",
       "      <td>7.8</td>\n",
       "      <td>0.88</td>\n",
       "      <td>0.00</td>\n",
       "      <td>2.6</td>\n",
       "      <td>0.098</td>\n",
       "      <td>25.0</td>\n",
       "      <td>67.0</td>\n",
       "      <td>0.9968</td>\n",
       "      <td>3.20</td>\n",
       "      <td>0.68</td>\n",
       "      <td>9.8</td>\n",
       "    </tr>\n",
       "    <tr>\n",
       "      <th>2</th>\n",
       "      <td>7.8</td>\n",
       "      <td>0.76</td>\n",
       "      <td>0.04</td>\n",
       "      <td>2.3</td>\n",
       "      <td>0.092</td>\n",
       "      <td>15.0</td>\n",
       "      <td>54.0</td>\n",
       "      <td>0.9970</td>\n",
       "      <td>3.26</td>\n",
       "      <td>0.65</td>\n",
       "      <td>9.8</td>\n",
       "    </tr>\n",
       "    <tr>\n",
       "      <th>3</th>\n",
       "      <td>11.2</td>\n",
       "      <td>0.28</td>\n",
       "      <td>0.56</td>\n",
       "      <td>1.9</td>\n",
       "      <td>0.075</td>\n",
       "      <td>17.0</td>\n",
       "      <td>60.0</td>\n",
       "      <td>0.9980</td>\n",
       "      <td>3.16</td>\n",
       "      <td>0.58</td>\n",
       "      <td>9.8</td>\n",
       "    </tr>\n",
       "    <tr>\n",
       "      <th>4</th>\n",
       "      <td>7.4</td>\n",
       "      <td>0.66</td>\n",
       "      <td>0.00</td>\n",
       "      <td>1.8</td>\n",
       "      <td>0.075</td>\n",
       "      <td>13.0</td>\n",
       "      <td>40.0</td>\n",
       "      <td>0.9978</td>\n",
       "      <td>3.51</td>\n",
       "      <td>0.56</td>\n",
       "      <td>9.4</td>\n",
       "    </tr>\n",
       "  </tbody>\n",
       "</table>\n",
       "</div>"
      ],
      "text/plain": [
       "   fixed acidity  volatile acidity  citric acid  residual sugar  chlorides  \\\n",
       "0            7.4              0.70         0.00             1.9      0.076   \n",
       "1            7.8              0.88         0.00             2.6      0.098   \n",
       "2            7.8              0.76         0.04             2.3      0.092   \n",
       "3           11.2              0.28         0.56             1.9      0.075   \n",
       "4            7.4              0.66         0.00             1.8      0.075   \n",
       "\n",
       "   free sulfur dioxide  total sulfur dioxide  density    pH  sulphates  \\\n",
       "0                 11.0                  34.0   0.9978  3.51       0.56   \n",
       "1                 25.0                  67.0   0.9968  3.20       0.68   \n",
       "2                 15.0                  54.0   0.9970  3.26       0.65   \n",
       "3                 17.0                  60.0   0.9980  3.16       0.58   \n",
       "4                 13.0                  40.0   0.9978  3.51       0.56   \n",
       "\n",
       "   alcohol  \n",
       "0      9.4  \n",
       "1      9.8  \n",
       "2      9.8  \n",
       "3      9.8  \n",
       "4      9.4  "
      ]
     },
     "execution_count": 18,
     "metadata": {},
     "output_type": "execute_result"
    }
   ],
   "source": [
    "x = df[['fixed acidity', 'volatile acidity', 'citric acid', 'residual sugar',\n",
    "       'chlorides', 'free sulfur dioxide', 'total sulfur dioxide', 'density',\n",
    "       'pH', 'sulphates', 'alcohol']]\n",
    "x.head()"
   ]
  },
  {
   "cell_type": "code",
   "execution_count": 19,
   "id": "67c4716a-4a23-4f37-8528-0c8231d46994",
   "metadata": {},
   "outputs": [
    {
     "data": {
      "text/html": [
       "<div>\n",
       "<style scoped>\n",
       "    .dataframe tbody tr th:only-of-type {\n",
       "        vertical-align: middle;\n",
       "    }\n",
       "\n",
       "    .dataframe tbody tr th {\n",
       "        vertical-align: top;\n",
       "    }\n",
       "\n",
       "    .dataframe thead th {\n",
       "        text-align: right;\n",
       "    }\n",
       "</style>\n",
       "<table border=\"1\" class=\"dataframe\">\n",
       "  <thead>\n",
       "    <tr style=\"text-align: right;\">\n",
       "      <th></th>\n",
       "      <th>fixed acidity</th>\n",
       "      <th>volatile acidity</th>\n",
       "      <th>citric acid</th>\n",
       "      <th>residual sugar</th>\n",
       "      <th>chlorides</th>\n",
       "      <th>free sulfur dioxide</th>\n",
       "      <th>total sulfur dioxide</th>\n",
       "      <th>density</th>\n",
       "      <th>pH</th>\n",
       "      <th>sulphates</th>\n",
       "      <th>alcohol</th>\n",
       "    </tr>\n",
       "  </thead>\n",
       "  <tbody>\n",
       "    <tr>\n",
       "      <th>0</th>\n",
       "      <td>7.4</td>\n",
       "      <td>0.70</td>\n",
       "      <td>0.00</td>\n",
       "      <td>1.9</td>\n",
       "      <td>0.076</td>\n",
       "      <td>11.0</td>\n",
       "      <td>34.0</td>\n",
       "      <td>0.99780</td>\n",
       "      <td>3.51</td>\n",
       "      <td>0.56</td>\n",
       "      <td>9.4</td>\n",
       "    </tr>\n",
       "    <tr>\n",
       "      <th>1</th>\n",
       "      <td>7.8</td>\n",
       "      <td>0.88</td>\n",
       "      <td>0.00</td>\n",
       "      <td>2.6</td>\n",
       "      <td>0.098</td>\n",
       "      <td>25.0</td>\n",
       "      <td>67.0</td>\n",
       "      <td>0.99680</td>\n",
       "      <td>3.20</td>\n",
       "      <td>0.68</td>\n",
       "      <td>9.8</td>\n",
       "    </tr>\n",
       "    <tr>\n",
       "      <th>2</th>\n",
       "      <td>7.8</td>\n",
       "      <td>0.76</td>\n",
       "      <td>0.04</td>\n",
       "      <td>2.3</td>\n",
       "      <td>0.092</td>\n",
       "      <td>15.0</td>\n",
       "      <td>54.0</td>\n",
       "      <td>0.99700</td>\n",
       "      <td>3.26</td>\n",
       "      <td>0.65</td>\n",
       "      <td>9.8</td>\n",
       "    </tr>\n",
       "    <tr>\n",
       "      <th>3</th>\n",
       "      <td>11.2</td>\n",
       "      <td>0.28</td>\n",
       "      <td>0.56</td>\n",
       "      <td>1.9</td>\n",
       "      <td>0.075</td>\n",
       "      <td>17.0</td>\n",
       "      <td>60.0</td>\n",
       "      <td>0.99800</td>\n",
       "      <td>3.16</td>\n",
       "      <td>0.58</td>\n",
       "      <td>9.8</td>\n",
       "    </tr>\n",
       "    <tr>\n",
       "      <th>4</th>\n",
       "      <td>7.4</td>\n",
       "      <td>0.66</td>\n",
       "      <td>0.00</td>\n",
       "      <td>1.8</td>\n",
       "      <td>0.075</td>\n",
       "      <td>13.0</td>\n",
       "      <td>40.0</td>\n",
       "      <td>0.99780</td>\n",
       "      <td>3.51</td>\n",
       "      <td>0.56</td>\n",
       "      <td>9.4</td>\n",
       "    </tr>\n",
       "    <tr>\n",
       "      <th>...</th>\n",
       "      <td>...</td>\n",
       "      <td>...</td>\n",
       "      <td>...</td>\n",
       "      <td>...</td>\n",
       "      <td>...</td>\n",
       "      <td>...</td>\n",
       "      <td>...</td>\n",
       "      <td>...</td>\n",
       "      <td>...</td>\n",
       "      <td>...</td>\n",
       "      <td>...</td>\n",
       "    </tr>\n",
       "    <tr>\n",
       "      <th>4926</th>\n",
       "      <td>6.2</td>\n",
       "      <td>0.21</td>\n",
       "      <td>0.29</td>\n",
       "      <td>1.6</td>\n",
       "      <td>0.039</td>\n",
       "      <td>24.0</td>\n",
       "      <td>92.0</td>\n",
       "      <td>0.99114</td>\n",
       "      <td>3.27</td>\n",
       "      <td>0.50</td>\n",
       "      <td>11.2</td>\n",
       "    </tr>\n",
       "    <tr>\n",
       "      <th>4927</th>\n",
       "      <td>6.6</td>\n",
       "      <td>0.32</td>\n",
       "      <td>0.36</td>\n",
       "      <td>8.0</td>\n",
       "      <td>0.047</td>\n",
       "      <td>57.0</td>\n",
       "      <td>168.0</td>\n",
       "      <td>0.99490</td>\n",
       "      <td>3.15</td>\n",
       "      <td>0.46</td>\n",
       "      <td>9.6</td>\n",
       "    </tr>\n",
       "    <tr>\n",
       "      <th>4928</th>\n",
       "      <td>6.5</td>\n",
       "      <td>0.24</td>\n",
       "      <td>0.19</td>\n",
       "      <td>1.2</td>\n",
       "      <td>0.041</td>\n",
       "      <td>30.0</td>\n",
       "      <td>111.0</td>\n",
       "      <td>0.99254</td>\n",
       "      <td>2.99</td>\n",
       "      <td>0.46</td>\n",
       "      <td>9.4</td>\n",
       "    </tr>\n",
       "    <tr>\n",
       "      <th>4929</th>\n",
       "      <td>5.5</td>\n",
       "      <td>0.29</td>\n",
       "      <td>0.30</td>\n",
       "      <td>1.1</td>\n",
       "      <td>0.022</td>\n",
       "      <td>20.0</td>\n",
       "      <td>110.0</td>\n",
       "      <td>0.98869</td>\n",
       "      <td>3.34</td>\n",
       "      <td>0.38</td>\n",
       "      <td>12.8</td>\n",
       "    </tr>\n",
       "    <tr>\n",
       "      <th>4930</th>\n",
       "      <td>6.0</td>\n",
       "      <td>0.21</td>\n",
       "      <td>0.38</td>\n",
       "      <td>0.8</td>\n",
       "      <td>0.020</td>\n",
       "      <td>22.0</td>\n",
       "      <td>98.0</td>\n",
       "      <td>0.98941</td>\n",
       "      <td>3.26</td>\n",
       "      <td>0.32</td>\n",
       "      <td>11.8</td>\n",
       "    </tr>\n",
       "  </tbody>\n",
       "</table>\n",
       "<p>4931 rows × 11 columns</p>\n",
       "</div>"
      ],
      "text/plain": [
       "      fixed acidity  volatile acidity  citric acid  residual sugar  chlorides  \\\n",
       "0               7.4              0.70         0.00             1.9      0.076   \n",
       "1               7.8              0.88         0.00             2.6      0.098   \n",
       "2               7.8              0.76         0.04             2.3      0.092   \n",
       "3              11.2              0.28         0.56             1.9      0.075   \n",
       "4               7.4              0.66         0.00             1.8      0.075   \n",
       "...             ...               ...          ...             ...        ...   \n",
       "4926            6.2              0.21         0.29             1.6      0.039   \n",
       "4927            6.6              0.32         0.36             8.0      0.047   \n",
       "4928            6.5              0.24         0.19             1.2      0.041   \n",
       "4929            5.5              0.29         0.30             1.1      0.022   \n",
       "4930            6.0              0.21         0.38             0.8      0.020   \n",
       "\n",
       "      free sulfur dioxide  total sulfur dioxide  density    pH  sulphates  \\\n",
       "0                    11.0                  34.0  0.99780  3.51       0.56   \n",
       "1                    25.0                  67.0  0.99680  3.20       0.68   \n",
       "2                    15.0                  54.0  0.99700  3.26       0.65   \n",
       "3                    17.0                  60.0  0.99800  3.16       0.58   \n",
       "4                    13.0                  40.0  0.99780  3.51       0.56   \n",
       "...                   ...                   ...      ...   ...        ...   \n",
       "4926                 24.0                  92.0  0.99114  3.27       0.50   \n",
       "4927                 57.0                 168.0  0.99490  3.15       0.46   \n",
       "4928                 30.0                 111.0  0.99254  2.99       0.46   \n",
       "4929                 20.0                 110.0  0.98869  3.34       0.38   \n",
       "4930                 22.0                  98.0  0.98941  3.26       0.32   \n",
       "\n",
       "      alcohol  \n",
       "0         9.4  \n",
       "1         9.8  \n",
       "2         9.8  \n",
       "3         9.8  \n",
       "4         9.4  \n",
       "...       ...  \n",
       "4926     11.2  \n",
       "4927      9.6  \n",
       "4928      9.4  \n",
       "4929     12.8  \n",
       "4930     11.8  \n",
       "\n",
       "[4931 rows x 11 columns]"
      ]
     },
     "execution_count": 19,
     "metadata": {},
     "output_type": "execute_result"
    }
   ],
   "source": [
    "x"
   ]
  },
  {
   "cell_type": "markdown",
   "id": "b7d9c59a",
   "metadata": {},
   "source": [
    "### Target Vector - quality (for regression) and type(for classification)"
   ]
  },
  {
   "cell_type": "markdown",
   "id": "46227c7a",
   "metadata": {},
   "source": [
    "Wine quality is a continuous variable that can take on any value in the range from 0 to 10, including fractions."
   ]
  },
  {
   "cell_type": "code",
   "execution_count": 20,
   "id": "3e7f45e7",
   "metadata": {},
   "outputs": [
    {
     "data": {
      "text/html": [
       "<div>\n",
       "<style scoped>\n",
       "    .dataframe tbody tr th:only-of-type {\n",
       "        vertical-align: middle;\n",
       "    }\n",
       "\n",
       "    .dataframe tbody tr th {\n",
       "        vertical-align: top;\n",
       "    }\n",
       "\n",
       "    .dataframe thead th {\n",
       "        text-align: right;\n",
       "    }\n",
       "</style>\n",
       "<table border=\"1\" class=\"dataframe\">\n",
       "  <thead>\n",
       "    <tr style=\"text-align: right;\">\n",
       "      <th></th>\n",
       "      <th>quality</th>\n",
       "      <th>is_red</th>\n",
       "    </tr>\n",
       "  </thead>\n",
       "  <tbody>\n",
       "    <tr>\n",
       "      <th>2656</th>\n",
       "      <td>6</td>\n",
       "      <td>0</td>\n",
       "    </tr>\n",
       "    <tr>\n",
       "      <th>692</th>\n",
       "      <td>5</td>\n",
       "      <td>1</td>\n",
       "    </tr>\n",
       "    <tr>\n",
       "      <th>4031</th>\n",
       "      <td>5</td>\n",
       "      <td>0</td>\n",
       "    </tr>\n",
       "    <tr>\n",
       "      <th>2834</th>\n",
       "      <td>7</td>\n",
       "      <td>0</td>\n",
       "    </tr>\n",
       "    <tr>\n",
       "      <th>1548</th>\n",
       "      <td>6</td>\n",
       "      <td>0</td>\n",
       "    </tr>\n",
       "  </tbody>\n",
       "</table>\n",
       "</div>"
      ],
      "text/plain": [
       "      quality  is_red\n",
       "2656        6       0\n",
       "692         5       1\n",
       "4031        5       0\n",
       "2834        7       0\n",
       "1548        6       0"
      ]
     },
     "execution_count": 20,
     "metadata": {},
     "output_type": "execute_result"
    }
   ],
   "source": [
    "y = df[['quality', 'is_red']]\n",
    "y.sample(5)"
   ]
  },
  {
   "cell_type": "markdown",
   "id": "5462a3ff",
   "metadata": {},
   "source": [
    "More than 2 o/p's also possible in functional model."
   ]
  },
  {
   "cell_type": "code",
   "execution_count": 21,
   "id": "2f6aa1df-f88c-420d-9d62-7572eb54830f",
   "metadata": {},
   "outputs": [
    {
     "data": {
      "text/html": [
       "<div>\n",
       "<style scoped>\n",
       "    .dataframe tbody tr th:only-of-type {\n",
       "        vertical-align: middle;\n",
       "    }\n",
       "\n",
       "    .dataframe tbody tr th {\n",
       "        vertical-align: top;\n",
       "    }\n",
       "\n",
       "    .dataframe thead th {\n",
       "        text-align: right;\n",
       "    }\n",
       "</style>\n",
       "<table border=\"1\" class=\"dataframe\">\n",
       "  <thead>\n",
       "    <tr style=\"text-align: right;\">\n",
       "      <th></th>\n",
       "      <th>quality</th>\n",
       "      <th>is_red</th>\n",
       "    </tr>\n",
       "  </thead>\n",
       "  <tbody>\n",
       "    <tr>\n",
       "      <th>0</th>\n",
       "      <td>5</td>\n",
       "      <td>1</td>\n",
       "    </tr>\n",
       "    <tr>\n",
       "      <th>1</th>\n",
       "      <td>5</td>\n",
       "      <td>1</td>\n",
       "    </tr>\n",
       "    <tr>\n",
       "      <th>2</th>\n",
       "      <td>5</td>\n",
       "      <td>1</td>\n",
       "    </tr>\n",
       "    <tr>\n",
       "      <th>3</th>\n",
       "      <td>6</td>\n",
       "      <td>1</td>\n",
       "    </tr>\n",
       "    <tr>\n",
       "      <th>4</th>\n",
       "      <td>5</td>\n",
       "      <td>1</td>\n",
       "    </tr>\n",
       "  </tbody>\n",
       "</table>\n",
       "</div>"
      ],
      "text/plain": [
       "   quality  is_red\n",
       "0        5       1\n",
       "1        5       1\n",
       "2        5       1\n",
       "3        6       1\n",
       "4        5       1"
      ]
     },
     "execution_count": 21,
     "metadata": {},
     "output_type": "execute_result"
    }
   ],
   "source": [
    "y = df[['quality', 'is_red']]\n",
    "y.head()"
   ]
  },
  {
   "cell_type": "code",
   "execution_count": 22,
   "id": "e4b1a94c-6537-42e3-9130-448d9b042b54",
   "metadata": {},
   "outputs": [
    {
     "data": {
      "text/plain": [
       "9862"
      ]
     },
     "execution_count": 22,
     "metadata": {},
     "output_type": "execute_result"
    }
   ],
   "source": [
    "y.size"
   ]
  },
  {
   "cell_type": "markdown",
   "id": "2c815deb",
   "metadata": {},
   "source": [
    "*Since this dataset was big enough so we have taken validation also apart from train & test set.* **Train samples > Validation samples > Test samples**"
   ]
  },
  {
   "cell_type": "code",
   "execution_count": 23,
   "id": "cc7ef3f4-6ebd-4301-84f4-c1b7b7520967",
   "metadata": {},
   "outputs": [
    {
     "name": "stdout",
     "output_type": "stream",
     "text": [
      "43384\n",
      "10857\n",
      "8679\n"
     ]
    }
   ],
   "source": [
    "train_x, test_x, train_y, test_y = train_test_split(x, y, test_size=0.2, random_state=1)\n",
    "print(train_x.size)\n",
    "print(test_x.size)\n",
    "\n",
    "train_x, val_x, train_y, val_y = train_test_split(train_x, train_y, test_size=0.2, random_state=1)\n",
    "print(val_x.size)\n"
   ]
  },
  {
   "cell_type": "code",
   "execution_count": 24,
   "id": "7fe469e1-30b5-4e58-9d19-9624aa8665aa",
   "metadata": {},
   "outputs": [
    {
     "data": {
      "text/html": [
       "<div>\n",
       "<style scoped>\n",
       "    .dataframe tbody tr th:only-of-type {\n",
       "        vertical-align: middle;\n",
       "    }\n",
       "\n",
       "    .dataframe tbody tr th {\n",
       "        vertical-align: top;\n",
       "    }\n",
       "\n",
       "    .dataframe thead th {\n",
       "        text-align: right;\n",
       "    }\n",
       "</style>\n",
       "<table border=\"1\" class=\"dataframe\">\n",
       "  <thead>\n",
       "    <tr style=\"text-align: right;\">\n",
       "      <th></th>\n",
       "      <th>fixed acidity</th>\n",
       "      <th>volatile acidity</th>\n",
       "      <th>citric acid</th>\n",
       "      <th>residual sugar</th>\n",
       "      <th>chlorides</th>\n",
       "      <th>free sulfur dioxide</th>\n",
       "      <th>total sulfur dioxide</th>\n",
       "      <th>density</th>\n",
       "      <th>pH</th>\n",
       "      <th>sulphates</th>\n",
       "      <th>alcohol</th>\n",
       "    </tr>\n",
       "  </thead>\n",
       "  <tbody>\n",
       "    <tr>\n",
       "      <th>225</th>\n",
       "      <td>7.5</td>\n",
       "      <td>0.65</td>\n",
       "      <td>0.18</td>\n",
       "      <td>7.0</td>\n",
       "      <td>0.088</td>\n",
       "      <td>27.0</td>\n",
       "      <td>94.0</td>\n",
       "      <td>0.99915</td>\n",
       "      <td>3.38</td>\n",
       "      <td>0.77</td>\n",
       "      <td>9.4</td>\n",
       "    </tr>\n",
       "    <tr>\n",
       "      <th>3557</th>\n",
       "      <td>6.3</td>\n",
       "      <td>0.27</td>\n",
       "      <td>0.29</td>\n",
       "      <td>12.2</td>\n",
       "      <td>0.044</td>\n",
       "      <td>59.0</td>\n",
       "      <td>196.0</td>\n",
       "      <td>0.99782</td>\n",
       "      <td>3.14</td>\n",
       "      <td>0.40</td>\n",
       "      <td>8.8</td>\n",
       "    </tr>\n",
       "    <tr>\n",
       "      <th>3825</th>\n",
       "      <td>8.8</td>\n",
       "      <td>0.27</td>\n",
       "      <td>0.25</td>\n",
       "      <td>5.0</td>\n",
       "      <td>0.024</td>\n",
       "      <td>52.0</td>\n",
       "      <td>99.0</td>\n",
       "      <td>0.99250</td>\n",
       "      <td>2.87</td>\n",
       "      <td>0.49</td>\n",
       "      <td>11.4</td>\n",
       "    </tr>\n",
       "    <tr>\n",
       "      <th>1740</th>\n",
       "      <td>6.4</td>\n",
       "      <td>0.45</td>\n",
       "      <td>0.07</td>\n",
       "      <td>1.1</td>\n",
       "      <td>0.030</td>\n",
       "      <td>10.0</td>\n",
       "      <td>131.0</td>\n",
       "      <td>0.99050</td>\n",
       "      <td>2.97</td>\n",
       "      <td>0.28</td>\n",
       "      <td>10.8</td>\n",
       "    </tr>\n",
       "    <tr>\n",
       "      <th>1221</th>\n",
       "      <td>7.2</td>\n",
       "      <td>0.53</td>\n",
       "      <td>0.13</td>\n",
       "      <td>2.0</td>\n",
       "      <td>0.058</td>\n",
       "      <td>18.0</td>\n",
       "      <td>22.0</td>\n",
       "      <td>0.99573</td>\n",
       "      <td>3.21</td>\n",
       "      <td>0.68</td>\n",
       "      <td>9.9</td>\n",
       "    </tr>\n",
       "  </tbody>\n",
       "</table>\n",
       "</div>"
      ],
      "text/plain": [
       "      fixed acidity  volatile acidity  citric acid  residual sugar  chlorides  \\\n",
       "225             7.5              0.65         0.18             7.0      0.088   \n",
       "3557            6.3              0.27         0.29            12.2      0.044   \n",
       "3825            8.8              0.27         0.25             5.0      0.024   \n",
       "1740            6.4              0.45         0.07             1.1      0.030   \n",
       "1221            7.2              0.53         0.13             2.0      0.058   \n",
       "\n",
       "      free sulfur dioxide  total sulfur dioxide  density    pH  sulphates  \\\n",
       "225                  27.0                  94.0  0.99915  3.38       0.77   \n",
       "3557                 59.0                 196.0  0.99782  3.14       0.40   \n",
       "3825                 52.0                  99.0  0.99250  2.87       0.49   \n",
       "1740                 10.0                 131.0  0.99050  2.97       0.28   \n",
       "1221                 18.0                  22.0  0.99573  3.21       0.68   \n",
       "\n",
       "      alcohol  \n",
       "225       9.4  \n",
       "3557      8.8  \n",
       "3825     11.4  \n",
       "1740     10.8  \n",
       "1221      9.9  "
      ]
     },
     "execution_count": 24,
     "metadata": {},
     "output_type": "execute_result"
    }
   ],
   "source": [
    "train_x[0:5]"
   ]
  },
  {
   "cell_type": "markdown",
   "id": "3639e62d-fc1f-43f7-ac22-e30f585b53f1",
   "metadata": {},
   "source": [
    "## *train_x, train_y, test_x, test_y, val_x, val_y: Are all the sets created*"
   ]
  },
  {
   "cell_type": "markdown",
   "id": "f83ab77e-3301-41c1-b7a4-225a3bf2b0bf",
   "metadata": {},
   "source": [
    "## *Normalization*"
   ]
  },
  {
   "cell_type": "code",
   "execution_count": 25,
   "id": "166d2ccb-b71c-405b-9b83-69b683e34a4c",
   "metadata": {},
   "outputs": [],
   "source": [
    "train_stats = train_x.describe().transpose()"
   ]
  },
  {
   "cell_type": "code",
   "execution_count": 26,
   "id": "78e2047a-6c33-40c6-a825-b892b105fda9",
   "metadata": {},
   "outputs": [],
   "source": [
    "# train_x.mean()"
   ]
  },
  {
   "cell_type": "code",
   "execution_count": 27,
   "id": "5b38a4a5-31e8-4a34-a268-3da51f6dc306",
   "metadata": {},
   "outputs": [],
   "source": [
    "# train_x.std()"
   ]
  },
  {
   "cell_type": "code",
   "execution_count": 28,
   "id": "b135e176-44fe-4edd-8eed-ee1c5d63f149",
   "metadata": {},
   "outputs": [
    {
     "data": {
      "text/html": [
       "<div>\n",
       "<style scoped>\n",
       "    .dataframe tbody tr th:only-of-type {\n",
       "        vertical-align: middle;\n",
       "    }\n",
       "\n",
       "    .dataframe tbody tr th {\n",
       "        vertical-align: top;\n",
       "    }\n",
       "\n",
       "    .dataframe thead th {\n",
       "        text-align: right;\n",
       "    }\n",
       "</style>\n",
       "<table border=\"1\" class=\"dataframe\">\n",
       "  <thead>\n",
       "    <tr style=\"text-align: right;\">\n",
       "      <th></th>\n",
       "      <th>fixed acidity</th>\n",
       "      <th>volatile acidity</th>\n",
       "      <th>citric acid</th>\n",
       "      <th>residual sugar</th>\n",
       "      <th>chlorides</th>\n",
       "      <th>free sulfur dioxide</th>\n",
       "      <th>total sulfur dioxide</th>\n",
       "      <th>density</th>\n",
       "      <th>pH</th>\n",
       "      <th>sulphates</th>\n",
       "      <th>alcohol</th>\n",
       "    </tr>\n",
       "  </thead>\n",
       "  <tbody>\n",
       "    <tr>\n",
       "      <th>225</th>\n",
       "      <td>0.210054</td>\n",
       "      <td>1.914565</td>\n",
       "      <td>-0.956741</td>\n",
       "      <td>0.397464</td>\n",
       "      <td>0.842996</td>\n",
       "      <td>-0.196591</td>\n",
       "      <td>-0.371425</td>\n",
       "      <td>1.503235</td>\n",
       "      <td>0.972264</td>\n",
       "      <td>1.581966</td>\n",
       "      <td>-0.956534</td>\n",
       "    </tr>\n",
       "    <tr>\n",
       "      <th>3557</th>\n",
       "      <td>-0.695404</td>\n",
       "      <td>-0.424239</td>\n",
       "      <td>-0.213347</td>\n",
       "      <td>1.518243</td>\n",
       "      <td>-0.352585</td>\n",
       "      <td>1.659904</td>\n",
       "      <td>1.427306</td>\n",
       "      <td>1.060647</td>\n",
       "      <td>-0.515907</td>\n",
       "      <td>-0.898768</td>\n",
       "      <td>-1.476170</td>\n",
       "    </tr>\n",
       "    <tr>\n",
       "      <th>3825</th>\n",
       "      <td>1.190966</td>\n",
       "      <td>-0.424239</td>\n",
       "      <td>-0.483672</td>\n",
       "      <td>-0.033604</td>\n",
       "      <td>-0.896032</td>\n",
       "      <td>1.253796</td>\n",
       "      <td>-0.283252</td>\n",
       "      <td>-0.709707</td>\n",
       "      <td>-2.190100</td>\n",
       "      <td>-0.295346</td>\n",
       "      <td>0.775586</td>\n",
       "    </tr>\n",
       "    <tr>\n",
       "      <th>1740</th>\n",
       "      <td>-0.619949</td>\n",
       "      <td>0.683616</td>\n",
       "      <td>-1.700136</td>\n",
       "      <td>-0.874188</td>\n",
       "      <td>-0.732998</td>\n",
       "      <td>-1.182853</td>\n",
       "      <td>0.281056</td>\n",
       "      <td>-1.375253</td>\n",
       "      <td>-1.570029</td>\n",
       "      <td>-1.703331</td>\n",
       "      <td>0.255950</td>\n",
       "    </tr>\n",
       "    <tr>\n",
       "      <th>1221</th>\n",
       "      <td>-0.016311</td>\n",
       "      <td>1.175995</td>\n",
       "      <td>-1.294648</td>\n",
       "      <td>-0.680207</td>\n",
       "      <td>0.027827</td>\n",
       "      <td>-0.718730</td>\n",
       "      <td>-1.641119</td>\n",
       "      <td>0.365151</td>\n",
       "      <td>-0.081857</td>\n",
       "      <td>0.978544</td>\n",
       "      <td>-0.523504</td>\n",
       "    </tr>\n",
       "  </tbody>\n",
       "</table>\n",
       "</div>"
      ],
      "text/plain": [
       "      fixed acidity  volatile acidity  citric acid  residual sugar  chlorides  \\\n",
       "225        0.210054          1.914565    -0.956741        0.397464   0.842996   \n",
       "3557      -0.695404         -0.424239    -0.213347        1.518243  -0.352585   \n",
       "3825       1.190966         -0.424239    -0.483672       -0.033604  -0.896032   \n",
       "1740      -0.619949          0.683616    -1.700136       -0.874188  -0.732998   \n",
       "1221      -0.016311          1.175995    -1.294648       -0.680207   0.027827   \n",
       "\n",
       "      free sulfur dioxide  total sulfur dioxide   density        pH  \\\n",
       "225             -0.196591             -0.371425  1.503235  0.972264   \n",
       "3557             1.659904              1.427306  1.060647 -0.515907   \n",
       "3825             1.253796             -0.283252 -0.709707 -2.190100   \n",
       "1740            -1.182853              0.281056 -1.375253 -1.570029   \n",
       "1221            -0.718730             -1.641119  0.365151 -0.081857   \n",
       "\n",
       "      sulphates   alcohol  \n",
       "225    1.581966 -0.956534  \n",
       "3557  -0.898768 -1.476170  \n",
       "3825  -0.295346  0.775586  \n",
       "1740  -1.703331  0.255950  \n",
       "1221   0.978544 -0.523504  "
      ]
     },
     "execution_count": 28,
     "metadata": {},
     "output_type": "execute_result"
    }
   ],
   "source": [
    "# Normalize\n",
    "\n",
    "norm_train_x = (train_x - train_x.mean())/train_x.std()\n",
    "norm_train_x.head()"
   ]
  },
  {
   "cell_type": "code",
   "execution_count": 29,
   "id": "2a04cb4b-fa40-411b-a665-91de81d779bc",
   "metadata": {},
   "outputs": [
    {
     "data": {
      "text/html": [
       "<div>\n",
       "<style scoped>\n",
       "    .dataframe tbody tr th:only-of-type {\n",
       "        vertical-align: middle;\n",
       "    }\n",
       "\n",
       "    .dataframe tbody tr th {\n",
       "        vertical-align: top;\n",
       "    }\n",
       "\n",
       "    .dataframe thead th {\n",
       "        text-align: right;\n",
       "    }\n",
       "</style>\n",
       "<table border=\"1\" class=\"dataframe\">\n",
       "  <thead>\n",
       "    <tr style=\"text-align: right;\">\n",
       "      <th></th>\n",
       "      <th>fixed acidity</th>\n",
       "      <th>volatile acidity</th>\n",
       "      <th>citric acid</th>\n",
       "      <th>residual sugar</th>\n",
       "      <th>chlorides</th>\n",
       "      <th>free sulfur dioxide</th>\n",
       "      <th>total sulfur dioxide</th>\n",
       "      <th>density</th>\n",
       "      <th>pH</th>\n",
       "      <th>sulphates</th>\n",
       "      <th>alcohol</th>\n",
       "    </tr>\n",
       "  </thead>\n",
       "  <tbody>\n",
       "    <tr>\n",
       "      <th>4149</th>\n",
       "      <td>0.134599</td>\n",
       "      <td>-0.731976</td>\n",
       "      <td>-0.348510</td>\n",
       "      <td>-0.766421</td>\n",
       "      <td>0.000655</td>\n",
       "      <td>0.847688</td>\n",
       "      <td>-0.300887</td>\n",
       "      <td>-0.546648</td>\n",
       "      <td>0.414200</td>\n",
       "      <td>-0.630581</td>\n",
       "      <td>-0.523504</td>\n",
       "    </tr>\n",
       "    <tr>\n",
       "      <th>4340</th>\n",
       "      <td>-0.846313</td>\n",
       "      <td>-0.547333</td>\n",
       "      <td>-0.280928</td>\n",
       "      <td>1.044067</td>\n",
       "      <td>-0.053690</td>\n",
       "      <td>1.485858</td>\n",
       "      <td>0.281056</td>\n",
       "      <td>-0.210547</td>\n",
       "      <td>-0.019850</td>\n",
       "      <td>-1.234002</td>\n",
       "      <td>0.342556</td>\n",
       "    </tr>\n",
       "    <tr>\n",
       "      <th>2045</th>\n",
       "      <td>-0.619949</td>\n",
       "      <td>-0.362691</td>\n",
       "      <td>0.597629</td>\n",
       "      <td>0.354358</td>\n",
       "      <td>-0.325413</td>\n",
       "      <td>1.775935</td>\n",
       "      <td>1.779999</td>\n",
       "      <td>0.188781</td>\n",
       "      <td>-0.825943</td>\n",
       "      <td>-0.496487</td>\n",
       "      <td>-0.956534</td>\n",
       "    </tr>\n",
       "    <tr>\n",
       "      <th>1966</th>\n",
       "      <td>-0.846313</td>\n",
       "      <td>-0.362691</td>\n",
       "      <td>0.192141</td>\n",
       "      <td>1.647564</td>\n",
       "      <td>-0.243896</td>\n",
       "      <td>1.891966</td>\n",
       "      <td>2.009249</td>\n",
       "      <td>0.954159</td>\n",
       "      <td>-0.887950</td>\n",
       "      <td>-0.898768</td>\n",
       "      <td>-1.389564</td>\n",
       "    </tr>\n",
       "    <tr>\n",
       "      <th>3452</th>\n",
       "      <td>-0.242675</td>\n",
       "      <td>0.375878</td>\n",
       "      <td>-0.145766</td>\n",
       "      <td>1.173388</td>\n",
       "      <td>-0.651481</td>\n",
       "      <td>-0.370637</td>\n",
       "      <td>-0.494868</td>\n",
       "      <td>-0.659791</td>\n",
       "      <td>-0.453900</td>\n",
       "      <td>-0.563534</td>\n",
       "      <td>1.988071</td>\n",
       "    </tr>\n",
       "  </tbody>\n",
       "</table>\n",
       "</div>"
      ],
      "text/plain": [
       "      fixed acidity  volatile acidity  citric acid  residual sugar  chlorides  \\\n",
       "4149       0.134599         -0.731976    -0.348510       -0.766421   0.000655   \n",
       "4340      -0.846313         -0.547333    -0.280928        1.044067  -0.053690   \n",
       "2045      -0.619949         -0.362691     0.597629        0.354358  -0.325413   \n",
       "1966      -0.846313         -0.362691     0.192141        1.647564  -0.243896   \n",
       "3452      -0.242675          0.375878    -0.145766        1.173388  -0.651481   \n",
       "\n",
       "      free sulfur dioxide  total sulfur dioxide   density        pH  \\\n",
       "4149             0.847688             -0.300887 -0.546648  0.414200   \n",
       "4340             1.485858              0.281056 -0.210547 -0.019850   \n",
       "2045             1.775935              1.779999  0.188781 -0.825943   \n",
       "1966             1.891966              2.009249  0.954159 -0.887950   \n",
       "3452            -0.370637             -0.494868 -0.659791 -0.453900   \n",
       "\n",
       "      sulphates   alcohol  \n",
       "4149  -0.630581 -0.523504  \n",
       "4340  -1.234002  0.342556  \n",
       "2045  -0.496487 -0.956534  \n",
       "1966  -0.898768 -1.389564  \n",
       "3452  -0.563534  1.988071  "
      ]
     },
     "execution_count": 29,
     "metadata": {},
     "output_type": "execute_result"
    }
   ],
   "source": [
    "norm_val_x = (val_x - train_x.mean())/train_x.std()\n",
    "norm_val_x.head()"
   ]
  },
  {
   "cell_type": "code",
   "execution_count": 30,
   "id": "5b47886d-2a4b-4ab0-8bb5-23c0e46a69a0",
   "metadata": {},
   "outputs": [
    {
     "data": {
      "text/html": [
       "<div>\n",
       "<style scoped>\n",
       "    .dataframe tbody tr th:only-of-type {\n",
       "        vertical-align: middle;\n",
       "    }\n",
       "\n",
       "    .dataframe tbody tr th {\n",
       "        vertical-align: top;\n",
       "    }\n",
       "\n",
       "    .dataframe thead th {\n",
       "        text-align: right;\n",
       "    }\n",
       "</style>\n",
       "<table border=\"1\" class=\"dataframe\">\n",
       "  <thead>\n",
       "    <tr style=\"text-align: right;\">\n",
       "      <th></th>\n",
       "      <th>fixed acidity</th>\n",
       "      <th>volatile acidity</th>\n",
       "      <th>citric acid</th>\n",
       "      <th>residual sugar</th>\n",
       "      <th>chlorides</th>\n",
       "      <th>free sulfur dioxide</th>\n",
       "      <th>total sulfur dioxide</th>\n",
       "      <th>density</th>\n",
       "      <th>pH</th>\n",
       "      <th>sulphates</th>\n",
       "      <th>alcohol</th>\n",
       "    </tr>\n",
       "  </thead>\n",
       "  <tbody>\n",
       "    <tr>\n",
       "      <th>2372</th>\n",
       "      <td>-0.242675</td>\n",
       "      <td>-0.670428</td>\n",
       "      <td>-0.551254</td>\n",
       "      <td>1.949312</td>\n",
       "      <td>-0.108035</td>\n",
       "      <td>-0.660714</td>\n",
       "      <td>-0.371425</td>\n",
       "      <td>1.187100</td>\n",
       "      <td>-0.329886</td>\n",
       "      <td>-0.228299</td>\n",
       "      <td>-0.783322</td>\n",
       "    </tr>\n",
       "    <tr>\n",
       "      <th>1900</th>\n",
       "      <td>-0.469039</td>\n",
       "      <td>-0.793523</td>\n",
       "      <td>-0.078184</td>\n",
       "      <td>1.345815</td>\n",
       "      <td>-0.488447</td>\n",
       "      <td>0.905703</td>\n",
       "      <td>0.880633</td>\n",
       "      <td>1.103907</td>\n",
       "      <td>1.158285</td>\n",
       "      <td>-0.630581</td>\n",
       "      <td>-0.610110</td>\n",
       "    </tr>\n",
       "    <tr>\n",
       "      <th>275</th>\n",
       "      <td>1.266420</td>\n",
       "      <td>0.560521</td>\n",
       "      <td>0.867954</td>\n",
       "      <td>-0.701761</td>\n",
       "      <td>-0.135207</td>\n",
       "      <td>-1.414915</td>\n",
       "      <td>-1.746926</td>\n",
       "      <td>0.055672</td>\n",
       "      <td>0.786243</td>\n",
       "      <td>1.112638</td>\n",
       "      <td>1.728253</td>\n",
       "    </tr>\n",
       "    <tr>\n",
       "      <th>3276</th>\n",
       "      <td>-0.619949</td>\n",
       "      <td>2.099207</td>\n",
       "      <td>-0.416091</td>\n",
       "      <td>-0.378459</td>\n",
       "      <td>0.326722</td>\n",
       "      <td>-0.312622</td>\n",
       "      <td>0.545575</td>\n",
       "      <td>-0.386917</td>\n",
       "      <td>-0.267879</td>\n",
       "      <td>-0.898768</td>\n",
       "      <td>-1.043140</td>\n",
       "    </tr>\n",
       "    <tr>\n",
       "      <th>2360</th>\n",
       "      <td>-0.469039</td>\n",
       "      <td>-0.670428</td>\n",
       "      <td>-0.416091</td>\n",
       "      <td>-0.831081</td>\n",
       "      <td>-0.325413</td>\n",
       "      <td>-0.834761</td>\n",
       "      <td>0.228152</td>\n",
       "      <td>-0.410211</td>\n",
       "      <td>0.848250</td>\n",
       "      <td>0.442169</td>\n",
       "      <td>-0.436898</td>\n",
       "    </tr>\n",
       "  </tbody>\n",
       "</table>\n",
       "</div>"
      ],
      "text/plain": [
       "      fixed acidity  volatile acidity  citric acid  residual sugar  chlorides  \\\n",
       "2372      -0.242675         -0.670428    -0.551254        1.949312  -0.108035   \n",
       "1900      -0.469039         -0.793523    -0.078184        1.345815  -0.488447   \n",
       "275        1.266420          0.560521     0.867954       -0.701761  -0.135207   \n",
       "3276      -0.619949          2.099207    -0.416091       -0.378459   0.326722   \n",
       "2360      -0.469039         -0.670428    -0.416091       -0.831081  -0.325413   \n",
       "\n",
       "      free sulfur dioxide  total sulfur dioxide   density        pH  \\\n",
       "2372            -0.660714             -0.371425  1.187100 -0.329886   \n",
       "1900             0.905703              0.880633  1.103907  1.158285   \n",
       "275             -1.414915             -1.746926  0.055672  0.786243   \n",
       "3276            -0.312622              0.545575 -0.386917 -0.267879   \n",
       "2360            -0.834761              0.228152 -0.410211  0.848250   \n",
       "\n",
       "      sulphates   alcohol  \n",
       "2372  -0.228299 -0.783322  \n",
       "1900  -0.630581 -0.610110  \n",
       "275    1.112638  1.728253  \n",
       "3276  -0.898768 -1.043140  \n",
       "2360   0.442169 -0.436898  "
      ]
     },
     "execution_count": 30,
     "metadata": {},
     "output_type": "execute_result"
    }
   ],
   "source": [
    "norm_test_x = (test_x - train_x.mean())/train_x.std()\n",
    "norm_test_x.head()"
   ]
  },
  {
   "cell_type": "markdown",
   "id": "4b82a74a-5012-4f3b-804f-5032051f392f",
   "metadata": {},
   "source": [
    "## *Model Development*"
   ]
  },
  {
   "cell_type": "code",
   "execution_count": 31,
   "id": "997ca51b-a4f3-4fc8-b23e-a1df268e8902",
   "metadata": {},
   "outputs": [],
   "source": [
    "# Initialize base model\n",
    "def base_model(inputs):\n",
    "    x = Dense(128, activation = 'relu', name = \"First_Dense\")(inputs)\n",
    "    x = Dense(128, activation = 'relu', name='Second_Dense')(x)\n",
    "    return x"
   ]
  },
  {
   "cell_type": "code",
   "execution_count": 32,
   "id": "4313aae6-9385-4446-bf30-432e198464a6",
   "metadata": {},
   "outputs": [],
   "source": [
    "def final_model(inputs):\n",
    "    x = base_model(inputs)\n",
    "    # Output layers\n",
    "    \n",
    "    wine_quality = Dense(1, name='Wine_Quality')(x)\n",
    "    wine_type = Dense(1, activation='sigmoid', name=\"Wine_Type\")(x)\n",
    "    model = Model(inputs = inputs, outputs =[wine_quality, wine_type])\n",
    "    return model"
   ]
  },
  {
   "cell_type": "markdown",
   "id": "aa9f71ba-37ff-49bb-8531-932c9a39d774",
   "metadata": {},
   "source": [
    "## *Compile the model*"
   ]
  },
  {
   "cell_type": "code",
   "execution_count": 33,
   "id": "8eb3927e-a6ae-4036-a088-32410b0f641b",
   "metadata": {},
   "outputs": [
    {
     "name": "stderr",
     "output_type": "stream",
     "text": [
      "2023-04-02 08:28:28.697082: I tensorflow/core/platform/cpu_feature_guard.cc:193] This TensorFlow binary is optimized with oneAPI Deep Neural Network Library (oneDNN) to use the following CPU instructions in performance-critical operations:  SSE4.1 SSE4.2\n",
      "To enable them in other operations, rebuild TensorFlow with the appropriate compiler flags.\n"
     ]
    }
   ],
   "source": [
    "inputs = Input(shape=(11,))\n",
    "model = final_model(inputs)"
   ]
  },
  {
   "cell_type": "code",
   "execution_count": 34,
   "id": "66bbb7fb-7d3e-4017-afdf-ebef1e00f983",
   "metadata": {},
   "outputs": [
    {
     "data": {
      "image/png": "[encoded data removed]",
      "text/plain": [
       "<IPython.core.display.Image object>"
      ]
     },
     "execution_count": 34,
     "metadata": {},
     "output_type": "execute_result"
    }
   ],
   "source": [
    "keras.utils.plot_model(model, show_shapes= True, show_layer_names=True)"
   ]
  },
  {
   "cell_type": "code",
   "execution_count": 35,
   "id": "9397fbb8-425f-4251-ae5f-db0216443b22",
   "metadata": {},
   "outputs": [],
   "source": [
    "model.compile(optimizer = keras.optimizers.RMSprop(learning_rate= 0.0001), \n",
    "              loss = {'Wine_Type':'binary_crossentropy',\n",
    "                      'Wine_Quality': 'mean_squared_error'},\n",
    "              metrics = {'Wine_Type': 'accuracy',\n",
    "                         'Wine_Quality': tf.keras.metrics.RootMeanSquaredError()},\n",
    "             )\n",
    "\n",
    "# Metrics & loss defined as per classification & regression problem."
   ]
  },
  {
   "cell_type": "code",
   "execution_count": 36,
   "id": "64790618-7db7-42b8-ace3-72c0f8ada857",
   "metadata": {},
   "outputs": [
    {
     "name": "stdout",
     "output_type": "stream",
     "text": [
      "Model: \"model\"\n",
      "__________________________________________________________________________________________________\n",
      " Layer (type)                   Output Shape         Param #     Connected to                     \n",
      "==================================================================================================\n",
      " input_1 (InputLayer)           [(None, 11)]         0           []                               \n",
      "                                                                                                  \n",
      " First_Dense (Dense)            (None, 128)          1536        ['input_1[0][0]']                \n",
      "                                                                                                  \n",
      " Second_Dense (Dense)           (None, 128)          16512       ['First_Dense[0][0]']            \n",
      "                                                                                                  \n",
      " Wine_Quality (Dense)           (None, 1)            129         ['Second_Dense[0][0]']           \n",
      "                                                                                                  \n",
      " Wine_Type (Dense)              (None, 1)            129         ['Second_Dense[0][0]']           \n",
      "                                                                                                  \n",
      "==================================================================================================\n",
      "Total params: 18,306\n",
      "Trainable params: 18,306\n",
      "Non-trainable params: 0\n",
      "__________________________________________________________________________________________________\n"
     ]
    }
   ],
   "source": [
    "model.summary()"
   ]
  },
  {
   "cell_type": "markdown",
   "id": "bb8b59dc-f246-4285-a602-28cb48d45c3b",
   "metadata": {},
   "source": [
    "## *Train the model*"
   ]
  },
  {
   "cell_type": "code",
   "execution_count": 37,
   "id": "a9d7ea7c-9997-4926-8b56-766ca3aea649",
   "metadata": {},
   "outputs": [],
   "source": [
    "is_red = train_y['is_red']\n",
    "is_red = np.array(is_red)\n",
    "quality = train_y['quality']\n",
    "quality = np.array(quality)\n",
    "train_y = (quality, is_red)"
   ]
  },
  {
   "cell_type": "code",
   "execution_count": 38,
   "id": "cca61510-6dc6-4004-99de-83c8d98b6ae2",
   "metadata": {},
   "outputs": [
    {
     "data": {
      "text/plain": [
       "(array([5, 6, 5, ..., 6, 5, 5]), array([1, 0, 0, ..., 1, 1, 0]))"
      ]
     },
     "execution_count": 38,
     "metadata": {},
     "output_type": "execute_result"
    }
   ],
   "source": [
    "train_y"
   ]
  },
  {
   "cell_type": "code",
   "execution_count": 39,
   "id": "00126b0e-13c3-4437-9344-a420979eee86",
   "metadata": {},
   "outputs": [],
   "source": [
    "is_red = val_y['is_red']\n",
    "is_red = np.array(is_red)\n",
    "quality = val_y['quality']\n",
    "quality = np.array(quality)\n",
    "val_y = (quality, is_red)"
   ]
  },
  {
   "cell_type": "code",
   "execution_count": 40,
   "id": "0bb52ee0-bae5-4698-b636-c5d78b37d931",
   "metadata": {},
   "outputs": [],
   "source": [
    "is_red = test_y['is_red']\n",
    "is_red = np.array(is_red)\n",
    "quality = test_y['quality']\n",
    "quality = np.array(quality)\n",
    "test_y = (quality, is_red)"
   ]
  },
  {
   "cell_type": "code",
   "execution_count": 41,
   "id": "a97cbd87-4674-4250-9b17-1595d5433511",
   "metadata": {
    "jupyter": {
     "outputs_hidden": true
    },
    "tags": []
   },
   "outputs": [
    {
     "name": "stdout",
     "output_type": "stream",
     "text": [
      "Epoch 1/10\n",
      "99/99 [==============================] - 1s 3ms/step - loss: 23.6802 - Wine_Quality_loss: 23.0437 - Wine_Type_loss: 0.6364 - Wine_Quality_root_mean_squared_error: 4.8004 - Wine_Type_accuracy: 0.7360 - val_loss: 16.3626 - val_Wine_Quality_loss: 15.7349 - val_Wine_Type_loss: 0.6277 - val_Wine_Quality_root_mean_squared_error: 3.9667 - val_Wine_Type_accuracy: 0.7326\n",
      "Epoch 2/10\n",
      "99/99 [==============================] - 0s 1ms/step - loss: 10.6708 - Wine_Quality_loss: 10.0717 - Wine_Type_loss: 0.5991 - Wine_Quality_root_mean_squared_error: 3.1736 - Wine_Type_accuracy: 0.7436 - val_loss: 6.2298 - val_Wine_Quality_loss: 5.6574 - val_Wine_Type_loss: 0.5724 - val_Wine_Quality_root_mean_squared_error: 2.3785 - val_Wine_Type_accuracy: 0.7338\n",
      "Epoch 3/10\n",
      "99/99 [==============================] - 0s 1ms/step - loss: 4.3329 - Wine_Quality_loss: 3.8124 - Wine_Type_loss: 0.5204 - Wine_Quality_root_mean_squared_error: 1.9525 - Wine_Type_accuracy: 0.7458 - val_loss: 3.2269 - val_Wine_Quality_loss: 2.7489 - val_Wine_Type_loss: 0.4781 - val_Wine_Quality_root_mean_squared_error: 1.6580 - val_Wine_Type_accuracy: 0.7351\n",
      "Epoch 4/10\n",
      "99/99 [==============================] - 0s 1ms/step - loss: 2.8622 - Wine_Quality_loss: 2.4494 - Wine_Type_loss: 0.4127 - Wine_Quality_root_mean_squared_error: 1.5651 - Wine_Type_accuracy: 0.7908 - val_loss: 2.5413 - val_Wine_Quality_loss: 2.1709 - val_Wine_Type_loss: 0.3705 - val_Wine_Quality_root_mean_squared_error: 1.4734 - val_Wine_Type_accuracy: 0.8720\n",
      "Epoch 5/10\n",
      "99/99 [==============================] - 0s 1ms/step - loss: 2.3564 - Wine_Quality_loss: 2.0365 - Wine_Type_loss: 0.3200 - Wine_Quality_root_mean_squared_error: 1.4271 - Wine_Type_accuracy: 0.9382 - val_loss: 2.1375 - val_Wine_Quality_loss: 1.8494 - val_Wine_Type_loss: 0.2881 - val_Wine_Quality_root_mean_squared_error: 1.3599 - val_Wine_Type_accuracy: 0.9607\n",
      "Epoch 6/10\n",
      "99/99 [==============================] - 0s 1ms/step - loss: 2.0354 - Wine_Quality_loss: 1.7886 - Wine_Type_loss: 0.2468 - Wine_Quality_root_mean_squared_error: 1.3374 - Wine_Type_accuracy: 0.9765 - val_loss: 1.8576 - val_Wine_Quality_loss: 1.6373 - val_Wine_Type_loss: 0.2203 - val_Wine_Quality_root_mean_squared_error: 1.2796 - val_Wine_Type_accuracy: 0.9810\n",
      "Epoch 7/10\n",
      "99/99 [==============================] - 0s 1ms/step - loss: 1.7768 - Wine_Quality_loss: 1.5875 - Wine_Type_loss: 0.1893 - Wine_Quality_root_mean_squared_error: 1.2600 - Wine_Type_accuracy: 0.9854 - val_loss: 1.6395 - val_Wine_Quality_loss: 1.4690 - val_Wine_Type_loss: 0.1705 - val_Wine_Quality_root_mean_squared_error: 1.2120 - val_Wine_Type_accuracy: 0.9848\n",
      "Epoch 8/10\n",
      "99/99 [==============================] - 0s 1ms/step - loss: 1.5970 - Wine_Quality_loss: 1.4482 - Wine_Type_loss: 0.1488 - Wine_Quality_root_mean_squared_error: 1.2034 - Wine_Type_accuracy: 0.9873 - val_loss: 1.4931 - val_Wine_Quality_loss: 1.3570 - val_Wine_Type_loss: 0.1361 - val_Wine_Quality_root_mean_squared_error: 1.1649 - val_Wine_Type_accuracy: 0.9873\n",
      "Epoch 9/10\n",
      "99/99 [==============================] - 0s 1ms/step - loss: 1.4540 - Wine_Quality_loss: 1.3340 - Wine_Type_loss: 0.1200 - Wine_Quality_root_mean_squared_error: 1.1550 - Wine_Type_accuracy: 0.9883 - val_loss: 1.3576 - val_Wine_Quality_loss: 1.2465 - val_Wine_Type_loss: 0.1112 - val_Wine_Quality_root_mean_squared_error: 1.1165 - val_Wine_Type_accuracy: 0.9899\n",
      "Epoch 10/10\n",
      "99/99 [==============================] - 0s 1ms/step - loss: 1.3347 - Wine_Quality_loss: 1.2343 - Wine_Type_loss: 0.1004 - Wine_Quality_root_mean_squared_error: 1.1110 - Wine_Type_accuracy: 0.9883 - val_loss: 1.2454 - val_Wine_Quality_loss: 1.1517 - val_Wine_Type_loss: 0.0937 - val_Wine_Quality_root_mean_squared_error: 1.0732 - val_Wine_Type_accuracy: 0.9886\n"
     ]
    }
   ],
   "source": [
    "history = model.fit(norm_train_x, train_y, \n",
    "                    epochs=10, \n",
    "                    validation_data=(norm_val_x, val_y))"
   ]
  },
  {
   "cell_type": "markdown",
   "id": "951b6898-86db-49b3-9358-dc7c35431451",
   "metadata": {},
   "source": [
    "## *Analyze Model's performance*"
   ]
  },
  {
   "cell_type": "code",
   "execution_count": 42,
   "id": "92a5650e-1f8f-4787-8032-1baefe3fd69a",
   "metadata": {},
   "outputs": [
    {
     "name": "stdout",
     "output_type": "stream",
     "text": [
      "25/25 [==============================] - 0s 643us/step - loss: 1.2454 - Wine_Quality_loss: 1.1517 - Wine_Type_loss: 0.0937 - Wine_Quality_root_mean_squared_error: 1.0732 - Wine_Type_accuracy: 0.9886\n",
      "\n",
      "loss: 1.2453603744506836\n",
      "wine_quality_loss: 1.1516590118408203\n",
      "wine_type_loss: 0.09370137751102448\n",
      "wine_quality_rmse: 1.0731537342071533\n",
      "wine_type_accuracy: 0.9885931611061096\n"
     ]
    }
   ],
   "source": [
    "loss, wine_quality_loss, wine_type_loss, wine_quality_rmse, wine_type_accuracy = model.evaluate(x=norm_val_x, y=val_y)\n",
    "\n",
    "print()\n",
    "print(f'loss: {loss}')\n",
    "print(f'wine_quality_loss: {wine_quality_loss}')\n",
    "print(f'wine_type_loss: {wine_type_loss}')\n",
    "print(f'wine_quality_rmse: {wine_quality_rmse}')\n",
    "print(f'wine_type_accuracy: {wine_type_accuracy}')\n"
   ]
  },
  {
   "cell_type": "code",
   "execution_count": 43,
   "id": "096d46e0-2449-44ba-b64a-33b3fa18aa76",
   "metadata": {},
   "outputs": [
    {
     "name": "stdout",
     "output_type": "stream",
     "text": [
      "31/31 [==============================] - 0s 536us/step\n"
     ]
    }
   ],
   "source": [
    "predictions = model.predict(norm_test_x)\n",
    "quality_preds = predictions[0]\n",
    "type_preds = predictions[1]"
   ]
  },
  {
   "cell_type": "code",
   "execution_count": null,
   "id": "0b54c508-9c68-4dc6-88d8-f4b7206f71de",
   "metadata": {},
   "outputs": [],
   "source": []
  },
  {
   "cell_type": "markdown",
   "id": "d2cc4c4a-359e-4841-a7bb-7cd3a9832e1d",
   "metadata": {},
   "source": [
    "### *Plot utilities*"
   ]
  },
  {
   "cell_type": "code",
   "execution_count": 44,
   "id": "3f3b750d-7501-4f73-adbb-f35b75099cc4",
   "metadata": {},
   "outputs": [],
   "source": [
    "def plot_metrics(metric_name, title, ylim=5):\n",
    "    plt.title(title)\n",
    "    plt.ylim(0,ylim)\n",
    "    plt.plot(history.history[metric_name],color='blue',label=metric_name)\n",
    "    plt.plot(history.history['val_' + metric_name],color='green',label='val_' + metric_name)\n",
    "\n",
    "def plot_confusion_matrix(y_true, y_pred, title='', labels=[0,1]):\n",
    "    cm = confusion_matrix(y_true, y_pred)\n",
    "    fig = plt.figure()\n",
    "    ax = fig.add_subplot(111)\n",
    "    cax = ax.matshow(cm)\n",
    "    plt.title('Confusion matrix of the classifier')\n",
    "    fig.colorbar(cax)\n",
    "    ax.set_xticklabels([''] + labels)\n",
    "    ax.set_yticklabels([''] + labels)\n",
    "    plt.xlabel('Predicted')\n",
    "    plt.ylabel('True')\n",
    "    fmt = 'd'\n",
    "    thresh = cm.max() / 2.\n",
    "    for i, j in itertools.product(range(cm.shape[0]), range(cm.shape[1])):\n",
    "          plt.text(j, i, format(cm[i, j], fmt),\n",
    "                  horizontalalignment=\"center\",\n",
    "                  color=\"black\" if cm[i, j] > thresh else \"white\")\n",
    "    plt.show()\n",
    "    \n",
    "def plot_diff(y_true, y_pred, title = '' ):\n",
    "    plt.scatter(y_true, y_pred)\n",
    "    plt.title(title)\n",
    "    plt.xlabel('True Values')\n",
    "    plt.ylabel('Predictions')\n",
    "    plt.axis('equal')\n",
    "    plt.axis('square')\n",
    "    plt.plot([-100, 100], [-100, 100])\n",
    "    return plt"
   ]
  },
  {
   "cell_type": "markdown",
   "id": "ea873a82-656f-4514-9c0c-3b68b10d5768",
   "metadata": {},
   "source": [
    "## *Metrics Plots* "
   ]
  },
  {
   "cell_type": "code",
   "execution_count": 45,
   "id": "cec076ef-a4e3-4e85-9434-c6011f639df5",
   "metadata": {},
   "outputs": [
    {
     "data": {
      "image/png": "[encoded data removed]",
      "text/plain": [
       "<Figure size 500x300 with 1 Axes>"
      ]
     },
     "metadata": {},
     "output_type": "display_data"
    }
   ],
   "source": [
    "plt.figure(figsize=(5,3))\n",
    "\n",
    "plot_metrics('Wine_Quality_root_mean_squared_error', 'RMSE', ylim=2)"
   ]
  },
  {
   "cell_type": "code",
   "execution_count": 46,
   "id": "32e46167-a7c9-4fc6-9e48-cc5f5f3b34fd",
   "metadata": {},
   "outputs": [
    {
     "data": {
      "image/png": "[encoded data removed]",
      "text/plain": [
       "<Figure size 500x300 with 1 Axes>"
      ]
     },
     "metadata": {},
     "output_type": "display_data"
    }
   ],
   "source": [
    "plt.figure(figsize=(5,3))\n",
    "\n",
    "plot_metrics('Wine_Type_loss', 'Wine Type Loss', ylim=0.2)"
   ]
  },
  {
   "cell_type": "markdown",
   "id": "4b3cdad4-e616-4b6c-b027-9ebeba1d7fea",
   "metadata": {},
   "source": [
    "## *Confusion Matrix*"
   ]
  },
  {
   "cell_type": "code",
   "execution_count": 47,
   "id": "1bef20a1-ca72-47cd-b415-b40aee64031e",
   "metadata": {},
   "outputs": [
    {
     "name": "stderr",
     "output_type": "stream",
     "text": [
      "/var/folders/1j/6bqwtp0x00z_279498pht7ym0000gn/T/ipykernel_20246/1399773686.py:14: UserWarning: FixedFormatter should only be used together with FixedLocator\n",
      "  ax.set_xticklabels([''] + labels)\n",
      "/var/folders/1j/6bqwtp0x00z_279498pht7ym0000gn/T/ipykernel_20246/1399773686.py:15: UserWarning: FixedFormatter should only be used together with FixedLocator\n",
      "  ax.set_yticklabels([''] + labels)\n"
     ]
    },
    {
     "data": {
      "text/plain": [
       "<Figure size 500x300 with 0 Axes>"
      ]
     },
     "metadata": {},
     "output_type": "display_data"
    },
    {
     "data": {
      "image/png": "[encoded data removed]",
      "text/plain": [
       "<Figure size 640x480 with 2 Axes>"
      ]
     },
     "metadata": {},
     "output_type": "display_data"
    }
   ],
   "source": [
    "plt.figure(figsize=(5,3))\n",
    "\n",
    "plot_confusion_matrix(test_y[1], np.round(type_preds), title='Wine Type', labels = [0, 1])"
   ]
  },
  {
   "cell_type": "code",
   "execution_count": 48,
   "id": "dc867e96-cb45-4c9c-91c9-74f231d4492a",
   "metadata": {},
   "outputs": [
    {
     "data": {
      "image/png": "[encoded data removed]",
      "text/plain": [
       "<Figure size 500x300 with 1 Axes>"
      ]
     },
     "metadata": {},
     "output_type": "display_data"
    }
   ],
   "source": [
    "plt.figure(figsize=(5,3))\n",
    "scatter_plot = plot_diff(test_y[0], quality_preds, title='Type')"
   ]
  },
  {
   "cell_type": "markdown",
   "id": "4e5d5fd3",
   "metadata": {},
   "source": [
    "Note that we had only 3 values of quality in dataset (5,6,7) rest we removed cz they were creating biasness in data."
   ]
  },
  {
   "cell_type": "code",
   "execution_count": null,
   "id": "0523be22",
   "metadata": {},
   "outputs": [],
   "source": []
  }
 ],
 "metadata": {
  "kernelspec": {
   "display_name": "Python 3 (ipykernel)",
   "language": "python",
   "name": "python3"
  },
  "language_info": {
   "codemirror_mode": {
    "name": "ipython",
    "version": 3
   },
   "file_extension": ".py",
   "mimetype": "text/x-python",
   "name": "python",
   "nbconvert_exporter": "python",
   "pygments_lexer": "ipython3",
   "version": "3.8.15"
  }
 },
 "nbformat": 4,
 "nbformat_minor": 5
}
